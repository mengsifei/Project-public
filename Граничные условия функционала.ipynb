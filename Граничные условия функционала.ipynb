{
 "cells": [
  {
   "cell_type": "markdown",
   "metadata": {},
   "source": [
    "## Функционал\n"
   ]
  },
  {
   "cell_type": "markdown",
   "metadata": {},
   "source": [
    "$$ F(x, y, z, y'', z'') = \\frac{D}{2}yy'' + \\frac{D}{2}zz''  - \\frac{z^2}{2} - \\frac{y^2}{2} + k_1 y^2 z + k_2 y z^2 + \\lambda y + \\lambda z$$"
   ]
  },
  {
   "cell_type": "markdown",
   "metadata": {},
   "source": [
    "Запишем вариацию по  𝑦 :"
   ]
  },
  {
   "cell_type": "markdown",
   "metadata": {},
   "source": [
    "$$ \\int\\limits_{-A}^A ( F(x, (y + dy), z, (y'' + dy''), z'') - F(x, y, z, y'', z'') ) \\, dx = \n",
    "\\int\\limits_{-A}^A \\left[ \\frac{D}{2} \\, ( (y + dy) \\cdot (y'' + dy'') - y \\cdot y'' \n",
    "- \\frac{(y + dy)^2}{2} + \\frac{y^2}{2} + k_1 ((y + dy)^2 - y^2) z + k_2 (y + dy - y) z^2 + \\lambda (y + dy - y) \\right] \\, dx = 0 $$\n",
    "$$ \\int\\limits_{-A}^A \\left[ \\frac{D}{2} y  dy'' + \\frac{D}{2} dy \\cdot  y'' - y dy \n",
    "- 2 k_1 \\cdot z \\cdot y \\cdot dy + k_2 \\cdot z^2 \\cdot dy + \\lambda \\cdot dy \\right] dx = 0 $$\n",
    "$$ \\int\\limits_{-A}^A \\left[ (\\frac{D}{2} \\cdot y ) \\, dy'' + (\\frac{D}{2} \\cdot y'' - y \n",
    "- 2 k_1 \\cdot z \\cdot y  + k_2 \\cdot z^2  + \\lambda) \\, dy \\, \\right] dx = 0 $$"
   ]
  },
  {
   "cell_type": "markdown",
   "metadata": {},
   "source": [
    "Проинтегрируем по частям:"
   ]
  },
  {
   "cell_type": "markdown",
   "metadata": {},
   "source": [
    "(1) $$ \\int\\limits_{-A}^A  (\\frac{D}{2} \\cdot y \\cdot dy'' ) \\, dx = \\frac{D}{2} \\cdot y \\cdot dy' \\bigg|_{-A} ^{A} - \\int\\limits_{-A}^A ( \\frac{D}{2} \\cdot \\frac{\\partial y}{\\partial x} \\cdot dy' ) \\, dx = I_1$$"
   ]
  },
  {
   "cell_type": "markdown",
   "metadata": {},
   "source": [
    "\n",
    "$$ = \\frac{D}{2} \\cdot y \\cdot dy' \\bigg|_{-A} ^{A} -  \\frac{D}{2} \\, \\left[  y \\cdot dy' \\, \\bigg|_{-A} ^{A} - \\int\\limits_{-A}^A (y \\cdot dy'') \\, dx \\right] \n",
    "= \\frac{D}{2} \\cdot y \\cdot dy' \\bigg|_{-A} ^{A} - \\frac{D}{2} \\, \\left[ y \\cdot dy' \\, \\bigg|_{-A} ^{A} - \\left( y \\cdot dy' \\, \\bigg|_{-A} ^{A} - \\int\\limits_{-A}^A (\\frac{\\partial y}{\\partial x} \\cdot dy' )\\, dx \\right) \\right] \n",
    "=  \\frac{D}{2} \\cdot y \\cdot dy' \\bigg|_{-A} ^{A} - \\frac{D}{2} \\, \\left[  y \\cdot dy' \\, \\bigg|_{-A} ^{A} - y \\cdot dy' \\, \\bigg|_{-A} ^{A} + \n",
    "\\left( \\frac{\\partial y}{\\partial x} \\cdot dy \\, \\bigg|_{-A} ^{A} - \\int\\limits_{-A}^A (\\frac{\\partial^2 y}{\\partial x^2} \\cdot dy) \\, dx \\right) \\right]$$"
   ]
  },
  {
   "cell_type": "markdown",
   "metadata": {},
   "source": [
    "(2) $$ \\int\\limits_{-A}^A \\left[ \\frac{D}{2} \\cdot \\frac{\\partial^2{y}}{\\partial x^2} + y \\cdot (- 1 + 2k_1 z) + k_2 z^2 + \\lambda) dy \\right] dx = I_2 = 0 $$\n",
    "$$ (1) \\Rightarrow \\int\\limits_{-A}^A \\left[ \\frac{D}{2} \\cdot \\frac{\\partial^2{y}}{\\partial x^2} + y \\cdot (- 1 + 2k_1 z) + k_2 z^2 + \\lambda) \\, dy \\right] \\, dx = I_2 = 0 $$\n",
    "\n",
    "$$ (2) \\Rightarrow\n",
    "\\frac{D}{2} \\cdot \\left[ \\right] = 0 $$\n",
    "Все граничные условия, следующие из $I_2$:\n",
    " $(y \\cdot dy' + y' \\cdot dy - (dy y - dy' y)) \\bigg| _{-A}^{A} = dy' \\cdot y \\bigg| _{-A}^{A} = 0 $\n",
    " Значит, $y(-A) = y(A) = 0 $ из произвольности малой $dy'$ "
   ]
  },
  {
   "cell_type": "markdown",
   "metadata": {},
   "source": [
    "Теперь граничные условия на производную "
   ]
  },
  {
   "cell_type": "markdown",
   "metadata": {},
   "source": [
    "$$ \\frac{D}{2} \\cdot \\left( \n",
    "y \\cdot dy' \\bigg|_{-A} ^{A} - y \\cdot dy' \\, \\bigg|_{-A} ^{A} + y \\cdot dy' \\, \\bigg|_{-A} ^{A} - y \\cdot dy' \\, \\bigg|_{-A} ^{A} +\n",
    "\\int\\limits_{-A}^A (\\frac{\\partial^2 y}{\\partial x^2} \\cdot dy) \\, dx \\right) = 0 $$\n",
    "\n",
    "$$ \n",
    "y \\cdot dy' \\bigg|_{-A} ^{A} - y' \\cdot dy \\, \\bigg|_{-A} ^{A} + \n",
    "\\int\\limits_{-A}^A (\\frac{\\partial^2 y}{\\partial x^2} \\cdot dy) \\, dx = 0\n",
    "$$\n",
    "\n",
    "Интеграл возьмем по частям:\n",
    "\n",
    "$$\n",
    "\\int\\limits_{-A}^A (\\frac{\\partial^2 y}{\\partial x^2} \\cdot dy) \\, dx = \n",
    "dy \\cdot y' \\bigg|_{-A} ^{A} - \\int\\limits_{-A}^A (\\frac{\\partial y}{\\partial x} \\cdot dy') \\, dx \n",
    "= dy \\cdot y' \\bigg|_{-A} ^{A} - y \\cdot dy' \\bigg|_{-A} ^{A} + \\int\\limits_{-A}^A (\\frac{\\partial^ y}{\\partial x^2 } \\cdot dy) \\, dx = 0\n",
    "$$\n",
    "\n",
    "Граничные условия\n",
    "\n",
    "$$ \n",
    "y \\cdot dy' + y' \\cdot dy - (dy \\cdot y' - dy' \\cdot y) \\, \\bigg|_{-A} ^{A}  = \n",
    "2 \\, dy' \\cdot y \\, \\bigg|_{-A} ^{A} = 0\n",
    "$$\n",
    "Значит, $y \\, (- A) = y \\, (A) = 0 $"
   ]
  },
  {
   "cell_type": "markdown",
   "metadata": {},
   "source": [
    "Приравняем к нулю интеграл и граничные условия\n",
    "$$ \n",
    "0 = ( y \\cdot dy' + y' \\cdot dy ) \\, \\bigg|_{-A} ^{A} \n",
    "$$\n",
    "Если не опускать dy, граничные условия\n",
    "$$ \n",
    "0 = y\\,(A) \\cdot dy'(A) - y'(A) \\cdot dy\\,(A) \\Rightarrow y(A) = y\\,(-A) = y'\\,(A) = y'(-A ) = 0\n",
    "$$\n",
    "Уравнение Эйлера\n",
    "$$\n",
    "\\frac{D}{2} \\cdot \\frac{\\partial^2 y}{\\partial x^2} - y \n",
    "+ 2 k_1 \\cdot z \\cdot y  + k_2 \\cdot z^2  + \\lambda = 0\n",
    "$$\n",
    "$$\n",
    "\\frac{D}{2} \\cdot \\frac{\\partial^2 y}{\\partial x^2} = 0\n",
    "$$"
   ]
  },
  {
   "cell_type": "markdown",
   "metadata": {},
   "source": [
    "Делаем то же самое для $z$: "
   ]
  },
  {
   "cell_type": "markdown",
   "metadata": {},
   "source": [
    "Получаем: \n",
    "$$\\begin{cases}\n",
    "y(-A) = 0 \\\\\n",
    "y(A)  = 0 \\\\\n",
    "z(-A) = 0 \\\\\n",
    "z(A) = 0\n",
    "\\end{cases}\n",
    "$$\n"
   ]
  }
 ],
 "metadata": {
  "kernelspec": {
   "display_name": "Python 3",
   "language": "python",
   "name": "python3"
  },
  "language_info": {
   "codemirror_mode": {
    "name": "ipython",
    "version": 3
   },
   "file_extension": ".py",
   "mimetype": "text/x-python",
   "name": "python",
   "nbconvert_exporter": "python",
   "pygments_lexer": "ipython3",
   "version": "3.8.3"
  }
 },
 "nbformat": 4,
 "nbformat_minor": 4
}
