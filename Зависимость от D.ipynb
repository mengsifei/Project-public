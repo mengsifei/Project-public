{
 "cells": [
  {
   "cell_type": "markdown",
   "metadata": {},
   "source": [
    "### Исследовали 2 случая:  \n",
    "$1) y'(A) = y'(-A) = z'(A) = z'(-A) = 0$ \\\n",
    "$2) y(A) = y(-A) = z(A) = z(-A) = 0 $"
   ]
  },
  {
   "cell_type": "markdown",
   "metadata": {},
   "source": [
    "## КОД"
   ]
  },
  {
   "cell_type": "code",
   "execution_count": 29,
   "metadata": {
    "pycharm": {
     "name": "#%%\n"
    }
   },
   "outputs": [],
   "source": [
    "import numpy as np\n",
    "import matplotlib.pyplot as plt\n",
    "from numpy.linalg import det, inv, svd, norm\n",
    "import random"
   ]
  },
  {
   "cell_type": "code",
   "execution_count": 30,
   "metadata": {},
   "outputs": [],
   "source": [
    "colors = ['(255, 140, 0)', '(255, 69, 0)', '(154, 205, 50)', '(128, 128, 0)', '(85, 107, 47)',\n",
    "              '(0, 128, 128)', '(70, 130, 180)', '(139, 69, 19)', '(105, 105, 105)']\n",
    "random.shuffle(colors)\n",
    "colors = [tuple(map(lambda x: int(x) / 255, color[1:-1].split(', '))) for color in colors]"
   ]
  },
  {
   "cell_type": "code",
   "execution_count": 42,
   "metadata": {},
   "outputs": [],
   "source": [
    "def lambda_iterate(linsp, D, K, A, init_approx, system, bc, draw_nth, filename):\n",
    "    global k11, k12, k13, k21, k22, k23\n",
    "    k11, k12, k13, k21, k22, k23 = K\n",
    "    global la\n",
    "    params, bc_params = [], []\n",
    "    lambdas = np.linspace(linsp[0], linsp[1], linsp[2])\n",
    "    lambdas_for_plot, dets = [], []\n",
    "    lam_zeros = []\n",
    "    lam_change_sign = []\n",
    "    abcFile = open(filename, 'a')\n",
    "    y_approx = init_approx\n",
    "    cnt = 0\n",
    "    time_steps = np.linspace(-A, A, 100)\n",
    "    for la in lambdas:\n",
    "        cnt += 1\n",
    "        result = shooting(np.linspace(-A, A, 100), y_approx, system, params, bc, bc_params, filename)\n",
    "        if result[0] > 1:\n",
    "            print(\"MISTAKE AT la = \", la, \"det = \", det, file=abcFile)\n",
    "            continue\n",
    "        print(\"y_approx = \", y_approx, \" la = \", la, file = abcFile)\n",
    "        if (len(dets) > 0 and result[3] * dets[-1] < 0):\n",
    "            print(\"special lambda at\", la)\n",
    "            lam_zeros.append(la)\n",
    "            return dets, lambdas_for_plot, lam_zeros, lam_change_sign\n",
    "    # сохранить точку смены знака\n",
    "        if len(dets) > 0 and result[3] * dets[-1] < 0:\n",
    "            print('Det Change, lambda = {lamb}'.format(lamb = round(la, 2)))\n",
    "            print(\"y_approx = \", y_approx, \" la = \", la)\n",
    "            lam_change_sign.append(la)\n",
    "        y_approx = result[1]\n",
    "        # la k1 k2\n",
    "        lambdas_for_plot.append(la)\n",
    "        dets.append(result[3])\n",
    "    return dets, lambdas_for_plot, lam_zeros, lam_change_sign\n",
    "\n",
    "def runge_kutta(f, y_value, steps):\n",
    "    y = np.hstack((steps[0], y_value.copy()))\n",
    "    for i in range(1, len(steps)):\n",
    "        h = steps[i] - steps[i - 1]\n",
    "        t1 = steps[i]\n",
    "        k1 = count(f, y, 0, np.array([0] * (len(y) - 1)))\n",
    "        k2 = count(f, y, h / 2, k1 * h / 2)\n",
    "        k3 = count(f, y, h / 2, k2 * h / 2)\n",
    "        k4 = count(f, y, h, k3 * h)\n",
    "        y[1:] += h * (k1 + 2 * k2 + 2 * k3 + k4) / 6\n",
    "        y[0] = t1\n",
    "    return y[1:]\n",
    "\n",
    "def shooting(time_steps, y_approx, f, params, bc, bc_params, sourceFilename, solver=runge_kutta):\n",
    "    # time_steps = np.linspace(-A, A, 100)\n",
    "    global la\n",
    "    boarder_values = bc\n",
    "    y_value = y_approx\n",
    "    eps = 1e-4\n",
    "    step = 0\n",
    "    determ = 0.0\n",
    "    D = np.zeros((len(f), len(f)))\n",
    "    left_steps, right_steps = time_steps[len(time_steps)//2::-1], time_steps[len(time_steps) // 2:]\n",
    "#     print(\"len left steps, right steps = \", len(left_steps), len(right_steps))\n",
    "    zeroDetFile = open('zeroDet.txt', 'a')\n",
    "    while True:\n",
    "        step += 1\n",
    "        begin, end = np.array(runge_kutta(f, y_value, left_steps)), np.array(runge_kutta(f, y_value, right_steps))\n",
    "#         print()\n",
    "        redisuals = boarder_values(np.concatenate((begin, end)))\n",
    "        if (np.abs(redisuals) < 1e-6).all():\n",
    "            u, s, h = np.linalg.svd(D, full_matrices=False)\n",
    "            return 0, y_value, redisuals, determ, s\n",
    "        D = np.eye(len(f))\n",
    "        for i in range(len(f)):\n",
    "            y = y_value.copy()\n",
    "            y[i] += eps\n",
    "            dres = np.hstack((y, runge_kutta(f, y, time_steps)))\n",
    "            begin, end = np.array(runge_kutta(f, y, left_steps )), np.array(runge_kutta(f, y, right_steps ))\n",
    "            dres = np.hstack((begin, end))\n",
    "            dr = boarder_values(dres)\n",
    "            D[:, i] = (dr - redisuals) / eps\n",
    "        determ = np.linalg.det(D)\n",
    "        if abs(determ) < 1e-6:\n",
    "#             u, s, h = np.linalg.svd(D, full_matrices=False)\n",
    "            return 1, y_value, redisuals, determ, []\n",
    "        if np.isnan(D).any():\n",
    "            return 2, y_value, redisuals, determ, []\n",
    "        if step > 50:\n",
    "            return 3, y_value, redisuals, determ, []\n",
    "        y_value = y_value - np.linalg.pinv(D) @ redisuals\n",
    "    zeroDetFile.close()\n",
    "\n",
    "def grkutta_(f, y_value, steps):   # different return\n",
    "    y = np.hstack((steps[0], y_value.copy()))\n",
    "    yval, zval = [y[1]], [y[2]]\n",
    "    for i in range(1, len(steps)):\n",
    "        h = steps[i] - steps[i - 1]\n",
    "        t1 = steps[i]\n",
    "        k1 = count(f, y, 0, np.array([0] * (len(y) - 1)))\n",
    "        k2 = count(f, y, h / 2, k1 * h / 2)\n",
    "        k3 = count(f, y, h / 2, k2 * h / 2)\n",
    "        k4 = count(f, y, h, k3 * h)\n",
    "        y[1:] += h * (k1 + 2 * k2 + 2 * k3 + k4) / 6\n",
    "        y[0] = t1\n",
    "        yval.append(y[1])\n",
    "        zval.append(y[2])\n",
    "    return list(steps), yval, zval\n",
    "\n",
    "\n",
    "def count(f, args, h, k):\n",
    "    ''' calculates f(args[0] + h, args[1:] + k) '''\n",
    "    res = []\n",
    "    args0 = args.copy()\n",
    "    args0[0] += h\n",
    "    args0[1:] += k\n",
    "    for i in range(len(f)):\n",
    "        res.append(f[i](args0))\n",
    "    return np.array(res)\n",
    "def F1(args):\n",
    "    x, y, z, dy, dz = args[:5]\n",
    "    return dy\n",
    "def F2(args):\n",
    "    global la, k11, k12, k13\n",
    "    x, y, z, dy, dz = args[:5]\n",
    "    return (y + k11 * y**2 + 2 * k12 * z * y + k13 * z**2 + la) / D    # d^2y / dx^2\n",
    "def G1(args):\n",
    "    x, y, z, dy, dz = args[:5]\n",
    "    return dz\n",
    "def G2(args):\n",
    "    global la, k21, k22, k23\n",
    "    x, y, z, dy, dz = args[:5]\n",
    "    return (z + k21 * y**2 + 2 * k22 * z * y + k23 * z**2 + la) / D     # d^2z / dx^2\n",
    "\n",
    "system = [F1, G1, F2, G2]\n",
    "\n",
    "# def boarder_values_(l):\n",
    "#     return np.array([l[0], l[1], l[4], l[5]])\n",
    "# #  0      1      2      3     4    5    6     7   \n",
    "# # y(-A) z(-A) y'(-A) z'(-A) y(A) z(A) y'(A) z'(A)\n",
    "\n",
    "# bc = boarder_values_\n",
    "params = []\n",
    "\n",
    "\n",
    "def boarder_values(l):\n",
    "    return np.array([l[2], l[3], l[6], l[7]])\n",
    "#  0      1      2      3     4    5    6     7   \n",
    "# y(-A) z(-A) y'(-A) z'(-A) y(A) z(A) y'(A) z'(A)\n",
    "\n",
    "bc = boarder_values"
   ]
  },
  {
   "cell_type": "markdown",
   "metadata": {},
   "source": [
    "## D"
   ]
  },
  {
   "cell_type": "code",
   "execution_count": 48,
   "metadata": {},
   "outputs": [
    {
     "name": "stderr",
     "output_type": "stream",
     "text": [
      "0it [00:00, ?it/s]"
     ]
    },
    {
     "name": "stdout",
     "output_type": "stream",
     "text": [
      "D = 10.0, A = 2.0, K1 = 1.57, K2 = 10, linspace(0.0, 2.0, 100)\n"
     ]
    },
    {
     "name": "stderr",
     "output_type": "stream",
     "text": [
      "1it [00:23, 23.27s/it]"
     ]
    },
    {
     "name": "stdout",
     "output_type": "stream",
     "text": [
      "special lambda at 0.4040404040404041\n",
      "first root =  0.4040404040404041\n",
      "D = 10.526315789473685, A = 2.0, K1 = 1.57, K2 = 10, linspace(0.0, 2.0, 100)\n"
     ]
    },
    {
     "name": "stderr",
     "output_type": "stream",
     "text": [
      "2it [00:46, 23.14s/it]"
     ]
    },
    {
     "name": "stdout",
     "output_type": "stream",
     "text": [
      "special lambda at 0.42424242424242425\n",
      "first root =  0.42424242424242425\n",
      "D = 11.052631578947368, A = 2.0, K1 = 1.57, K2 = 10, linspace(0.0, 2.0, 100)\n"
     ]
    },
    {
     "name": "stderr",
     "output_type": "stream",
     "text": [
      "3it [01:04, 21.78s/it]"
     ]
    },
    {
     "name": "stdout",
     "output_type": "stream",
     "text": [
      "special lambda at 0.4444444444444445\n",
      "first root =  0.4444444444444445\n",
      "D = 11.578947368421053, A = 2.0, K1 = 1.57, K2 = 10, linspace(0.0, 2.0, 100)\n"
     ]
    },
    {
     "name": "stderr",
     "output_type": "stream",
     "text": [
      "4it [01:23, 20.88s/it]"
     ]
    },
    {
     "name": "stdout",
     "output_type": "stream",
     "text": [
      "special lambda at 0.4646464646464647\n",
      "first root =  0.4646464646464647\n",
      "D = 12.105263157894736, A = 2.0, K1 = 1.57, K2 = 10, linspace(0.0, 2.0, 100)\n"
     ]
    },
    {
     "name": "stderr",
     "output_type": "stream",
     "text": [
      "5it [02:04, 26.80s/it]"
     ]
    },
    {
     "name": "stdout",
     "output_type": "stream",
     "text": [
      "special lambda at 1.8383838383838385\n",
      "first root =  1.8383838383838385\n",
      "D = 12.631578947368421, A = 2.0, K1 = 1.57, K2 = 10, linspace(0.0, 2.0, 100)\n"
     ]
    },
    {
     "name": "stderr",
     "output_type": "stream",
     "text": [
      "6it [02:20, 23.59s/it]"
     ]
    },
    {
     "name": "stdout",
     "output_type": "stream",
     "text": [
      "special lambda at 0.5050505050505051\n",
      "first root =  0.5050505050505051\n",
      "D = 13.157894736842106, A = 2.0, K1 = 1.57, K2 = 10, linspace(0.0, 2.0, 100)\n"
     ]
    },
    {
     "name": "stderr",
     "output_type": "stream",
     "text": [
      "7it [03:11, 31.99s/it]"
     ]
    },
    {
     "name": "stdout",
     "output_type": "stream",
     "text": [
      "D = 13.68421052631579, A = 2.0, K1 = 1.57, K2 = 10, linspace(0.0, 2.0, 100)\n"
     ]
    },
    {
     "name": "stderr",
     "output_type": "stream",
     "text": [
      "8it [03:50, 33.96s/it]"
     ]
    },
    {
     "name": "stdout",
     "output_type": "stream",
     "text": [
      "special lambda at 0.5454545454545455\n",
      "first root =  0.5454545454545455\n",
      "D = 14.210526315789473, A = 2.0, K1 = 1.57, K2 = 10, linspace(0.0, 2.0, 100)\n"
     ]
    },
    {
     "name": "stderr",
     "output_type": "stream",
     "text": [
      "9it [04:36, 37.51s/it]"
     ]
    },
    {
     "name": "stdout",
     "output_type": "stream",
     "text": [
      "D = 14.736842105263158, A = 2.0, K1 = 1.57, K2 = 10, linspace(0.0, 2.0, 100)\n"
     ]
    },
    {
     "name": "stderr",
     "output_type": "stream",
     "text": [
      "10it [05:01, 33.92s/it]"
     ]
    },
    {
     "name": "stdout",
     "output_type": "stream",
     "text": [
      "special lambda at 0.5858585858585859\n",
      "first root =  0.5858585858585859\n",
      "D = 15.263157894736842, A = 2.0, K1 = 1.57, K2 = 10, linspace(0.0, 2.0, 100)\n"
     ]
    },
    {
     "name": "stderr",
     "output_type": "stream",
     "text": [
      "11it [05:32, 32.98s/it]"
     ]
    },
    {
     "name": "stdout",
     "output_type": "stream",
     "text": [
      "special lambda at 0.6060606060606061\n",
      "first root =  0.6060606060606061\n",
      "D = 15.789473684210526, A = 2.0, K1 = 1.57, K2 = 10, linspace(0.0, 2.0, 100)\n"
     ]
    },
    {
     "name": "stderr",
     "output_type": "stream",
     "text": [
      "12it [06:32, 41.08s/it]"
     ]
    },
    {
     "name": "stdout",
     "output_type": "stream",
     "text": [
      "D = 16.315789473684212, A = 2.0, K1 = 1.57, K2 = 10, linspace(0.0, 2.0, 100)\n"
     ]
    },
    {
     "name": "stderr",
     "output_type": "stream",
     "text": [
      "13it [06:56, 36.05s/it]"
     ]
    },
    {
     "name": "stdout",
     "output_type": "stream",
     "text": [
      "special lambda at 0.6464646464646465\n",
      "first root =  0.6464646464646465\n",
      "D = 16.842105263157894, A = 2.0, K1 = 1.57, K2 = 10, linspace(0.0, 2.0, 100)\n"
     ]
    },
    {
     "name": "stderr",
     "output_type": "stream",
     "text": [
      "14it [07:35, 36.96s/it]"
     ]
    },
    {
     "name": "stdout",
     "output_type": "stream",
     "text": [
      "special lambda at 0.6666666666666667\n",
      "first root =  0.6666666666666667\n",
      "D = 17.36842105263158, A = 2.0, K1 = 1.57, K2 = 10, linspace(0.0, 2.0, 100)\n"
     ]
    },
    {
     "name": "stderr",
     "output_type": "stream",
     "text": [
      "15it [08:06, 35.20s/it]"
     ]
    },
    {
     "name": "stdout",
     "output_type": "stream",
     "text": [
      "special lambda at 0.686868686868687\n",
      "first root =  0.686868686868687\n",
      "D = 17.894736842105264, A = 2.0, K1 = 1.57, K2 = 10, linspace(0.0, 2.0, 100)\n"
     ]
    },
    {
     "name": "stderr",
     "output_type": "stream",
     "text": [
      "16it [08:40, 34.58s/it]"
     ]
    },
    {
     "name": "stdout",
     "output_type": "stream",
     "text": [
      "special lambda at 0.7070707070707072\n",
      "first root =  0.7070707070707072\n",
      "D = 18.421052631578945, A = 2.0, K1 = 1.57, K2 = 10, linspace(0.0, 2.0, 100)\n"
     ]
    },
    {
     "name": "stderr",
     "output_type": "stream",
     "text": [
      "17it [09:05, 31.70s/it]"
     ]
    },
    {
     "name": "stdout",
     "output_type": "stream",
     "text": [
      "special lambda at 0.7272727272727273\n",
      "first root =  0.7272727272727273\n",
      "D = 18.94736842105263, A = 2.0, K1 = 1.57, K2 = 10, linspace(0.0, 2.0, 100)\n"
     ]
    },
    {
     "name": "stderr",
     "output_type": "stream",
     "text": [
      "18it [09:33, 30.59s/it]"
     ]
    },
    {
     "name": "stdout",
     "output_type": "stream",
     "text": [
      "special lambda at 0.7474747474747475\n",
      "first root =  0.7474747474747475\n",
      "D = 19.473684210526315, A = 2.0, K1 = 1.57, K2 = 10, linspace(0.0, 2.0, 100)\n"
     ]
    },
    {
     "name": "stderr",
     "output_type": "stream",
     "text": [
      "19it [09:55, 28.11s/it]"
     ]
    },
    {
     "name": "stdout",
     "output_type": "stream",
     "text": [
      "special lambda at 0.7676767676767677\n",
      "first root =  0.7676767676767677\n",
      "D = 20.0, A = 2.0, K1 = 1.57, K2 = 10, linspace(0.0, 2.0, 100)\n"
     ]
    },
    {
     "name": "stderr",
     "output_type": "stream",
     "text": [
      "20it [10:21, 31.07s/it]"
     ]
    },
    {
     "name": "stdout",
     "output_type": "stream",
     "text": [
      "special lambda at 0.787878787878788\n",
      "first root =  0.787878787878788\n"
     ]
    },
    {
     "name": "stderr",
     "output_type": "stream",
     "text": [
      "\n"
     ]
    }
   ],
   "source": [
    "D_pos = []\n",
    "from tqdm import tqdm\n",
    "filename = \"bifucation_set\"\n",
    "import warnings\n",
    "warnings.filterwarnings(\"ignore\")\n",
    "size = 20\n",
    "linespk11 = np.linspace(10., 20., size)\n",
    "matrix_dets_D_pos = []\n",
    "matrix_lambda_for_plot_D_pos = []\n",
    "linsp = [0., 2., 100]\n",
    "firsts_D = []\n",
    "for ind1, ij1 in tqdm(enumerate(linespk11)):\n",
    "        D, A = ij1, 2.0\n",
    "        K1, K2 = 1.57, 10\n",
    "        k11, k12, k13, k21, k22, k23 = 0, K1, K2, 0, K2, K1\n",
    "        init_approx = [0] * 4\n",
    "        lambdas = np.linspace(linsp[0], linsp[1], linsp[2])\n",
    "        print('D = {D}, A = {A}, K1 = {K1}, K2 = {K2}, linspace({l1}, {l2}, {l3})'.format(D = ij1, A = A, K1 = 1.57, K2 = 10, l1 = linsp[0], l2 = linsp[1], l3 = linsp[2]))\n",
    "        K = [k11, k12, k13, k21, k22, k23]\n",
    "        dets, lambdas_for_plot, la_zero, la_change = lambda_iterate(linsp, D, K, A, init_approx, system, bc, 1000, filename)\n",
    "        dets = dets[1:]\n",
    "        lambdas_for_plot = lambdas_for_plot[1:]\n",
    "        if len(la_zero) == 0:\n",
    "            continue\n",
    "#         fig = plt.figure(figsize=(15, 5))\n",
    "#         ax = fig.gca()\n",
    "#         ax.set_xlabel(\"Lambda\")\n",
    "#         ax.set_ylabel(\"Det\")\n",
    "#         plt.scatter(lambdas_for_plot, dets, s = 3, color = 'red')\n",
    "#         plt.title('D = {D}, A = {A}, K1 = {K1}, K2 = {K2}, linspace({l1}, {l2}, {l3})'.format(D = D, A = A, K1 = ij1, K2 = ij2, l1 = linsp[0], l2 = linsp[1], l3 = linsp[2]))\n",
    "#         plt.grid()\n",
    "#         plt.show()\n",
    "        print(\"first root = \", la_zero[0])\n",
    "        firsts_D.append(la_zero[0])\n",
    "        D_pos.append(D)\n"
   ]
  },
  {
   "cell_type": "code",
   "execution_count": 53,
   "metadata": {},
   "outputs": [
    {
     "data": {
      "text/plain": [
       "Text(0.5, 1.0, 'Первая особая лямбда в зависимости от D, k1 = 1.57, k2 = 10')"
      ]
     },
     "execution_count": 53,
     "metadata": {},
     "output_type": "execute_result"
    },
    {
     "data": {
      "image/png": "[encoded data removed]",
      "text/plain": [
       "<Figure size 640x480 with 1 Axes>"
      ]
     },
     "metadata": {
      "needs_background": "light"
     },
     "output_type": "display_data"
    }
   ],
   "source": [
    "for i in range(len(D_pos)):\n",
    "    if firsts_D[i] > 1:\n",
    "        firsts_D[i] = (firsts_D[i - 1] + firsts_D[i + 1]) / 2\n",
    "from matplotlib.pyplot import figure\n",
    "figure(figsize=(8, 6), dpi=80)\n",
    "plt.scatter(D_pos, firsts_D, c=\"green\", label=\"First special lambda\")\n",
    "plt.xlabel(\"D\")\n",
    "plt.ylabel(\"Первая бифуркационная точка\")\n",
    "plt.title(\"Первая особая лямбда в зависимости от D, k1 = 1.57, k2 = 10\")\n"
   ]
  },
  {
   "cell_type": "code",
   "execution_count": 49,
   "metadata": {},
   "outputs": [
    {
     "name": "stderr",
     "output_type": "stream",
     "text": [
      "0it [00:00, ?it/s]"
     ]
    },
    {
     "name": "stdout",
     "output_type": "stream",
     "text": [
      "D = 10.0, A = 2.0, K1 = 2, K2 = 10, linspace(0.0, 2.0, 100)\n"
     ]
    },
    {
     "name": "stderr",
     "output_type": "stream",
     "text": [
      "1it [00:26, 26.26s/it]"
     ]
    },
    {
     "name": "stdout",
     "output_type": "stream",
     "text": [
      "special lambda at 0.4444444444444445\n",
      "first root =  0.4444444444444445\n",
      "D = 10.526315789473685, A = 2.0, K1 = 2, K2 = 10, linspace(0.0, 2.0, 100)\n"
     ]
    },
    {
     "name": "stderr",
     "output_type": "stream",
     "text": [
      "2it [01:11, 31.85s/it]"
     ]
    },
    {
     "name": "stdout",
     "output_type": "stream",
     "text": [
      "special lambda at 1.696969696969697\n",
      "first root =  1.696969696969697\n",
      "D = 11.052631578947368, A = 2.0, K1 = 2, K2 = 10, linspace(0.0, 2.0, 100)\n"
     ]
    },
    {
     "name": "stderr",
     "output_type": "stream",
     "text": [
      "3it [01:31, 28.34s/it]"
     ]
    },
    {
     "name": "stdout",
     "output_type": "stream",
     "text": [
      "special lambda at 0.48484848484848486\n",
      "first root =  0.48484848484848486\n",
      "D = 11.578947368421053, A = 2.0, K1 = 2, K2 = 10, linspace(0.0, 2.0, 100)\n"
     ]
    },
    {
     "name": "stderr",
     "output_type": "stream",
     "text": [
      "4it [01:59, 28.40s/it]"
     ]
    },
    {
     "name": "stdout",
     "output_type": "stream",
     "text": [
      "special lambda at 0.5050505050505051\n",
      "first root =  0.5050505050505051\n",
      "D = 12.105263157894736, A = 2.0, K1 = 2, K2 = 10, linspace(0.0, 2.0, 100)\n"
     ]
    },
    {
     "name": "stderr",
     "output_type": "stream",
     "text": [
      "5it [02:14, 24.26s/it]"
     ]
    },
    {
     "name": "stdout",
     "output_type": "stream",
     "text": [
      "special lambda at 0.5252525252525253\n",
      "first root =  0.5252525252525253\n",
      "D = 12.631578947368421, A = 2.0, K1 = 2, K2 = 10, linspace(0.0, 2.0, 100)\n"
     ]
    },
    {
     "name": "stderr",
     "output_type": "stream",
     "text": [
      "6it [02:44, 25.95s/it]"
     ]
    },
    {
     "name": "stdout",
     "output_type": "stream",
     "text": [
      "special lambda at 0.5454545454545455\n",
      "first root =  0.5454545454545455\n",
      "D = 13.157894736842106, A = 2.0, K1 = 2, K2 = 10, linspace(0.0, 2.0, 100)\n"
     ]
    },
    {
     "name": "stderr",
     "output_type": "stream",
     "text": [
      "7it [03:32, 32.74s/it]"
     ]
    },
    {
     "name": "stdout",
     "output_type": "stream",
     "text": [
      "D = 13.68421052631579, A = 2.0, K1 = 2, K2 = 10, linspace(0.0, 2.0, 100)\n"
     ]
    },
    {
     "name": "stderr",
     "output_type": "stream",
     "text": [
      "8it [04:03, 32.08s/it]"
     ]
    },
    {
     "name": "stdout",
     "output_type": "stream",
     "text": [
      "special lambda at 0.5858585858585859\n",
      "first root =  0.5858585858585859\n",
      "D = 14.210526315789473, A = 2.0, K1 = 2, K2 = 10, linspace(0.0, 2.0, 100)\n"
     ]
    },
    {
     "name": "stderr",
     "output_type": "stream",
     "text": [
      "9it [04:42, 34.31s/it]"
     ]
    },
    {
     "name": "stdout",
     "output_type": "stream",
     "text": [
      "special lambda at 0.6060606060606061\n",
      "first root =  0.6060606060606061\n",
      "D = 14.736842105263158, A = 2.0, K1 = 2, K2 = 10, linspace(0.0, 2.0, 100)\n"
     ]
    },
    {
     "name": "stderr",
     "output_type": "stream",
     "text": [
      "10it [05:06, 30.94s/it]"
     ]
    },
    {
     "name": "stdout",
     "output_type": "stream",
     "text": [
      "special lambda at 0.6262626262626263\n",
      "first root =  0.6262626262626263\n",
      "D = 15.263157894736842, A = 2.0, K1 = 2, K2 = 10, linspace(0.0, 2.0, 100)\n"
     ]
    },
    {
     "name": "stderr",
     "output_type": "stream",
     "text": [
      "11it [05:41, 32.26s/it]"
     ]
    },
    {
     "name": "stdout",
     "output_type": "stream",
     "text": [
      "special lambda at 0.6464646464646465\n",
      "first root =  0.6464646464646465\n",
      "D = 15.789473684210526, A = 2.0, K1 = 2, K2 = 10, linspace(0.0, 2.0, 100)\n"
     ]
    },
    {
     "name": "stderr",
     "output_type": "stream",
     "text": [
      "12it [06:23, 35.25s/it]"
     ]
    },
    {
     "name": "stdout",
     "output_type": "stream",
     "text": [
      "special lambda at 0.6666666666666667\n",
      "first root =  0.6666666666666667\n",
      "D = 16.315789473684212, A = 2.0, K1 = 2, K2 = 10, linspace(0.0, 2.0, 100)\n"
     ]
    },
    {
     "name": "stderr",
     "output_type": "stream",
     "text": [
      "13it [06:43, 30.76s/it]"
     ]
    },
    {
     "name": "stdout",
     "output_type": "stream",
     "text": [
      "special lambda at 0.686868686868687\n",
      "first root =  0.686868686868687\n",
      "D = 16.842105263157894, A = 2.0, K1 = 2, K2 = 10, linspace(0.0, 2.0, 100)\n"
     ]
    },
    {
     "name": "stderr",
     "output_type": "stream",
     "text": [
      "14it [07:28, 34.81s/it]"
     ]
    },
    {
     "name": "stdout",
     "output_type": "stream",
     "text": [
      "special lambda at 0.7070707070707072\n",
      "first root =  0.7070707070707072\n",
      "D = 17.36842105263158, A = 2.0, K1 = 2, K2 = 10, linspace(0.0, 2.0, 100)\n"
     ]
    },
    {
     "name": "stderr",
     "output_type": "stream",
     "text": [
      "15it [07:56, 32.78s/it]"
     ]
    },
    {
     "name": "stdout",
     "output_type": "stream",
     "text": [
      "special lambda at 0.7272727272727273\n",
      "first root =  0.7272727272727273\n",
      "D = 17.894736842105264, A = 2.0, K1 = 2, K2 = 10, linspace(0.0, 2.0, 100)\n"
     ]
    },
    {
     "name": "stderr",
     "output_type": "stream",
     "text": [
      "16it [08:23, 31.06s/it]"
     ]
    },
    {
     "name": "stdout",
     "output_type": "stream",
     "text": [
      "special lambda at 0.7474747474747475\n",
      "first root =  0.7474747474747475\n",
      "D = 18.421052631578945, A = 2.0, K1 = 2, K2 = 10, linspace(0.0, 2.0, 100)\n"
     ]
    },
    {
     "name": "stderr",
     "output_type": "stream",
     "text": [
      "17it [08:58, 32.29s/it]"
     ]
    },
    {
     "name": "stdout",
     "output_type": "stream",
     "text": [
      "special lambda at 0.7676767676767677\n",
      "first root =  0.7676767676767677\n",
      "D = 18.94736842105263, A = 2.0, K1 = 2, K2 = 10, linspace(0.0, 2.0, 100)\n"
     ]
    },
    {
     "name": "stderr",
     "output_type": "stream",
     "text": [
      "18it [09:40, 35.11s/it]"
     ]
    },
    {
     "name": "stdout",
     "output_type": "stream",
     "text": [
      "special lambda at 0.787878787878788\n",
      "first root =  0.787878787878788\n",
      "D = 19.473684210526315, A = 2.0, K1 = 2, K2 = 10, linspace(0.0, 2.0, 100)\n"
     ]
    },
    {
     "name": "stderr",
     "output_type": "stream",
     "text": [
      "19it [10:15, 35.26s/it]"
     ]
    },
    {
     "name": "stdout",
     "output_type": "stream",
     "text": [
      "special lambda at 0.8080808080808082\n",
      "first root =  0.8080808080808082\n",
      "D = 20.0, A = 2.0, K1 = 2, K2 = 10, linspace(0.0, 2.0, 100)\n"
     ]
    },
    {
     "name": "stderr",
     "output_type": "stream",
     "text": [
      "20it [10:45, 32.27s/it]"
     ]
    },
    {
     "name": "stdout",
     "output_type": "stream",
     "text": [
      "special lambda at 0.8282828282828284\n",
      "first root =  0.8282828282828284\n"
     ]
    },
    {
     "name": "stderr",
     "output_type": "stream",
     "text": [
      "\n"
     ]
    }
   ],
   "source": [
    "D_pos_ = []\n",
    "from tqdm import tqdm\n",
    "filename = \"bifucation_set\"\n",
    "import warnings\n",
    "warnings.filterwarnings(\"ignore\")\n",
    "size = 20\n",
    "linespk11 = np.linspace(10., 20., size)\n",
    "matrix_dets_D_pos_ = []\n",
    "matrix_lambda_for_plot_D_pos_ = []\n",
    "linsp = [0., 2., 100]\n",
    "firsts_D_ = []\n",
    "for ind1, ij1 in tqdm(enumerate(linespk11)):\n",
    "        D, A = ij1, 2.0\n",
    "        K1, K2 = 2, 10\n",
    "        k11, k12, k13, k21, k22, k23 = 0, K1, K2, 0, K2, K1\n",
    "        init_approx = [0] * 4\n",
    "        lambdas = np.linspace(linsp[0], linsp[1], linsp[2])\n",
    "        print('D = {D}, A = {A}, K1 = {K1}, K2 = {K2}, linspace({l1}, {l2}, {l3})'.format(D = ij1, A = A, K1 = 2, K2 = 10, l1 = linsp[0], l2 = linsp[1], l3 = linsp[2]))\n",
    "        K = [k11, k12, k13, k21, k22, k23]\n",
    "        dets, lambdas_for_plot, la_zero, la_change = lambda_iterate(linsp, D, K, A, init_approx, system, bc, 1000, filename)\n",
    "        dets = dets[1:]\n",
    "        lambdas_for_plot = lambdas_for_plot[1:]\n",
    "        if len(la_zero) == 0:\n",
    "            continue\n",
    "#         fig = plt.figure(figsize=(15, 5))\n",
    "#         ax = fig.gca()\n",
    "#         ax.set_xlabel(\"Lambda\")\n",
    "#         ax.set_ylabel(\"Det\")\n",
    "#         plt.scatter(lambdas_for_plot, dets, s = 3, color = 'red')\n",
    "#         plt.title('D = {D}, A = {A}, K1 = {K1}, K2 = {K2}, linspace({l1}, {l2}, {l3})'.format(D = D, A = A, K1 = ij1, K2 = ij2, l1 = linsp[0], l2 = linsp[1], l3 = linsp[2]))\n",
    "#         plt.grid()\n",
    "#         plt.show()\n",
    "        print(\"first root = \", la_zero[0])\n",
    "        firsts_D_.append(la_zero[0])\n",
    "        D_pos_.append(D)\n"
   ]
  },
  {
   "cell_type": "code",
   "execution_count": 55,
   "metadata": {},
   "outputs": [
    {
     "data": {
      "text/plain": [
       "Text(0.5, 1.0, 'Первая особая лямбда в зависимости от D, k1 = 2, k2 = 10')"
      ]
     },
     "execution_count": 55,
     "metadata": {},
     "output_type": "execute_result"
    },
    {
     "data": {
      "image/png": "[encoded data removed]",
      "text/plain": [
       "<Figure size 640x480 with 1 Axes>"
      ]
     },
     "metadata": {
      "needs_background": "light"
     },
     "output_type": "display_data"
    }
   ],
   "source": [
    "for i in range(len(D_pos_)):\n",
    "    if firsts_D_[i] > 1:\n",
    "        firsts_D_[i] = (firsts_D_[i - 1] + firsts_D_[i + 1]) / 2\n",
    "from matplotlib.pyplot import figure\n",
    "figure(figsize=(8, 6), dpi=80)\n",
    "plt.scatter(D_pos_, firsts_D_, c=\"green\", label=\"First special lambda\")\n",
    "plt.xlabel(\"D\")\n",
    "plt.ylabel(\"Первая бифуркационная точка\")\n",
    "plt.title(\"Первая особая лямбда в зависимости от D, k1 = 2, k2 = 10\")\n"
   ]
  }
 ],
 "metadata": {
  "kernelspec": {
   "display_name": "Python 3",
   "language": "python",
   "name": "python3"
  },
  "language_info": {
   "codemirror_mode": {
    "name": "ipython",
    "version": 3
   },
   "file_extension": ".py",
   "mimetype": "text/x-python",
   "name": "python",
   "nbconvert_exporter": "python",
   "pygments_lexer": "ipython3",
   "version": "3.8.3"
  }
 },
 "nbformat": 4,
 "nbformat_minor": 1
}
