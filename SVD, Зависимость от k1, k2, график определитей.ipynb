{
 "cells": [
  {
   "cell_type": "markdown",
   "metadata": {},
   "source": [
    "### Исследовали 2 случая:  \n",
    "$1) y'(A) = y'(-A) = z'(A) = z'(-A) = 0$ \\\n",
    "$2) y(A) = y(-A) = z(A) = z(-A) = 0 $"
   ]
  },
  {
   "cell_type": "markdown",
   "metadata": {},
   "source": [
    "## КОД"
   ]
  },
  {
   "cell_type": "code",
   "execution_count": 1,
   "metadata": {
    "pycharm": {
     "name": "#%%\n"
    }
   },
   "outputs": [],
   "source": [
    "import numpy as np\n",
    "import matplotlib.pyplot as plt\n",
    "from numpy.linalg import det, inv, svd, norm\n",
    "import random"
   ]
  },
  {
   "cell_type": "code",
   "execution_count": 2,
   "metadata": {},
   "outputs": [],
   "source": [
    "colors = ['(255, 140, 0)', '(255, 69, 0)', '(154, 205, 50)', '(128, 128, 0)', '(85, 107, 47)',\n",
    "              '(0, 128, 128)', '(70, 130, 180)', '(139, 69, 19)', '(105, 105, 105)']\n",
    "random.shuffle(colors)\n",
    "colors = [tuple(map(lambda x: int(x) / 255, color[1:-1].split(', '))) for color in colors]"
   ]
  },
  {
   "cell_type": "code",
   "execution_count": 3,
   "metadata": {},
   "outputs": [],
   "source": [
    "def lambda_iterate(linsp, D, K, A, init_approx, system, bc, draw_nth, filename):\n",
    "    global k11, k12, k13, k21, k22, k23\n",
    "    k11, k12, k13, k21, k22, k23 = K\n",
    "    global la\n",
    "    params, bc_params = [], []\n",
    "    lambdas = np.linspace(linsp[0], linsp[1], linsp[2])\n",
    "    lambdas_for_plot, dets = [], []\n",
    "    lam_zeros = []\n",
    "    lam_change_sign = []\n",
    "    abcFile = open(filename, 'a')\n",
    "    y_approx = init_approx\n",
    "    cnt = 0\n",
    "    time_steps = np.linspace(-A, A, 100)\n",
    "    for la in lambdas:\n",
    "        cnt += 1\n",
    "        result = shooting(np.linspace(-A, A, 100), y_approx, system, params, bc, bc_params, filename)\n",
    "        if result[0] > 1:\n",
    "            print(\"MISTAKE AT la = \", la, \"det = \", det, file=abcFile)\n",
    "            continue\n",
    "        print(\"y_approx = \", y_approx, \" la = \", la, file = abcFile)\n",
    "        if (len(dets) > 0 and result[3] * dets[-1] < 0):\n",
    "            print(\"special lambda at\", la)\n",
    "            lam_zeros.append(la)\n",
    "            return dets, lambdas_for_plot, lam_zeros, lam_change_sign\n",
    "    # сохранить точку смены знака\n",
    "        if len(dets) > 0 and result[3] * dets[-1] < 0:\n",
    "            print('Det Change, lambda = {lamb}'.format(lamb = round(la, 2)))\n",
    "            print(\"y_approx = \", y_approx, \" la = \", la)\n",
    "            lam_change_sign.append(la)\n",
    "        y_approx = result[1]\n",
    "        # la k1 k2\n",
    "        lambdas_for_plot.append(la)\n",
    "        dets.append(result[3])\n",
    "    return dets, lambdas_for_plot, lam_zeros, lam_change_sign\n",
    "\n",
    "def runge_kutta(f, y_value, steps):\n",
    "    y = np.hstack((steps[0], y_value.copy()))\n",
    "    for i in range(1, len(steps)):\n",
    "        h = steps[i] - steps[i - 1]\n",
    "        t1 = steps[i]\n",
    "        k1 = count(f, y, 0, np.array([0] * (len(y) - 1)))\n",
    "        k2 = count(f, y, h / 2, k1 * h / 2)\n",
    "        k3 = count(f, y, h / 2, k2 * h / 2)\n",
    "        k4 = count(f, y, h, k3 * h)\n",
    "        y[1:] += h * (k1 + 2 * k2 + 2 * k3 + k4) / 6\n",
    "        y[0] = t1\n",
    "    return y[1:]\n",
    "\n",
    "def shooting(time_steps, y_approx, f, params, bc, bc_params, sourceFilename, solver=runge_kutta):\n",
    "    # time_steps = np.linspace(-A, A, 100)\n",
    "    global la\n",
    "    boarder_values = bc\n",
    "    y_value = y_approx\n",
    "    eps = 1e-4\n",
    "    step = 0\n",
    "    determ = 0.0\n",
    "    D = np.zeros((len(f), len(f)))\n",
    "    left_steps, right_steps = time_steps[len(time_steps)//2::-1], time_steps[len(time_steps) // 2:]\n",
    "#     print(\"len left steps, right steps = \", len(left_steps), len(right_steps))\n",
    "    zeroDetFile = open('zeroDet.txt', 'a')\n",
    "    while True:\n",
    "        step += 1\n",
    "        begin, end = np.array(runge_kutta(f, y_value, left_steps)), np.array(runge_kutta(f, y_value, right_steps))\n",
    "#         print()\n",
    "        redisuals = boarder_values(np.concatenate((begin, end)))\n",
    "        if (np.abs(redisuals) < 1e-6).all():\n",
    "            u, s, h = np.linalg.svd(D, full_matrices=False)\n",
    "            return 0, y_value, redisuals, determ, s\n",
    "        D = np.eye(len(f))\n",
    "        for i in range(len(f)):\n",
    "            y = y_value.copy()\n",
    "            y[i] += eps\n",
    "            dres = np.hstack((y, runge_kutta(f, y, time_steps)))\n",
    "            begin, end = np.array(runge_kutta(f, y, left_steps )), np.array(runge_kutta(f, y, right_steps ))\n",
    "            dres = np.hstack((begin, end))\n",
    "            dr = boarder_values(dres)\n",
    "            D[:, i] = (dr - redisuals) / eps\n",
    "        determ = np.linalg.det(D)\n",
    "        if abs(determ) < 1e-6:\n",
    "#             u, s, h = np.linalg.svd(D, full_matrices=False)\n",
    "            return 1, y_value, redisuals, determ, []\n",
    "        if np.isnan(D).any():\n",
    "            return 2, y_value, redisuals, determ, []\n",
    "        if step > 10:\n",
    "            return 3, y_value, redisuals, determ, []\n",
    "        y_value = y_value - np.linalg.pinv(D) @ redisuals\n",
    "    zeroDetFile.close()\n",
    "\n",
    "def grkutta_(f, y_value, steps):   # different return\n",
    "    y = np.hstack((steps[0], y_value.copy()))\n",
    "    yval, zval = [y[1]], [y[2]]\n",
    "    for i in range(1, len(steps)):\n",
    "        h = steps[i] - steps[i - 1]\n",
    "        t1 = steps[i]\n",
    "        k1 = count(f, y, 0, np.array([0] * (len(y) - 1)))\n",
    "        k2 = count(f, y, h / 2, k1 * h / 2)\n",
    "        k3 = count(f, y, h / 2, k2 * h / 2)\n",
    "        k4 = count(f, y, h, k3 * h)\n",
    "        y[1:] += h * (k1 + 2 * k2 + 2 * k3 + k4) / 6\n",
    "        y[0] = t1\n",
    "        yval.append(y[1])\n",
    "        zval.append(y[2])\n",
    "    return list(steps), yval, zval\n",
    "\n",
    "\n",
    "def count(f, args, h, k):\n",
    "    ''' calculates f(args[0] + h, args[1:] + k) '''\n",
    "    res = []\n",
    "    args0 = args.copy()\n",
    "    args0[0] += h\n",
    "    args0[1:] += k\n",
    "    for i in range(len(f)):\n",
    "        res.append(f[i](args0))\n",
    "    return np.array(res)\n",
    "def F1(args):\n",
    "    x, y, z, dy, dz = args[:5]\n",
    "    return dy\n",
    "def F2(args):\n",
    "    global la, k11, k12, k13\n",
    "    x, y, z, dy, dz = args[:5]\n",
    "    return (y + k11 * y**2 + 2 * k12 * z * y + k13 * z**2 + la) / D    # d^2y / dx^2\n",
    "def G1(args):\n",
    "    x, y, z, dy, dz = args[:5]\n",
    "    return dz\n",
    "def G2(args):\n",
    "    global la, k21, k22, k23\n",
    "    x, y, z, dy, dz = args[:5]\n",
    "    return (z + k21 * y**2 + 2 * k22 * z * y + k23 * z**2 + la) / D     # d^2z / dx^2\n",
    "\n",
    "system = [F1, G1, F2, G2]\n",
    "\n",
    "# def boarder_values_(l):\n",
    "#     return np.array([l[0], l[1], l[4], l[5]])\n",
    "# #  0      1      2      3     4    5    6     7   \n",
    "# # y(-A) z(-A) y'(-A) z'(-A) y(A) z(A) y'(A) z'(A)\n",
    "\n",
    "# bc = boarder_values_\n",
    "params = []\n",
    "\n",
    "\n",
    "def boarder_values(l):\n",
    "    return np.array([l[2], l[3], l[6], l[7]])\n",
    "#  0      1      2      3     4    5    6     7   \n",
    "# y(-A) z(-A) y'(-A) z'(-A) y(A) z(A) y'(A) z'(A)\n",
    "\n",
    "bc = boarder_values"
   ]
  },
  {
   "cell_type": "markdown",
   "metadata": {},
   "source": [
    "# y'(-A) = y'(A) = z'(-A) = z'(A) = 0"
   ]
  },
  {
   "cell_type": "markdown",
   "metadata": {},
   "source": [
    "## График det lambda"
   ]
  },
  {
   "cell_type": "code",
   "execution_count": 62,
   "metadata": {
    "scrolled": true
   },
   "outputs": [
    {
     "name": "stdout",
     "output_type": "stream",
     "text": [
      "D = 10, A = 2.0, K1 = 1.57, K2 = 10, linspace(0, 100, 1000)\n",
      "Det Change, lambda = 3.4\n",
      "y_approx =  [-2.81031432e+00  5.99377879e-02 -1.02826227e-07 -7.53026378e-07]  la =  3.4034034034034035\n",
      "Det Change, lambda = 5.91\n",
      "y_approx =  [-4.91965201e+00  5.96693622e-02  1.92480467e-09  2.89947084e-08]  la =  5.9059059059059065\n",
      "Det Change, lambda = 9.21\n",
      "y_approx =  [-7.70420780e+00  5.95402880e-02 -3.39032545e-09 -2.28032640e-08]  la =  9.20920920920921\n",
      "Det Change, lambda = 13.31\n",
      "y_approx =  [-1.11638958e+01  5.94700922e-02 -3.93275515e-08 -2.49693845e-07]  la =  13.313313313313314\n",
      "Det Change, lambda = 18.02\n",
      "y_approx =  [-1.51299212e+01  5.94282369e-02 -1.98922171e-09 -1.30316749e-08]  la =  18.01801801801802\n",
      "Det Change, lambda = 23.52\n",
      "y_approx =  [-1.97710349e+01  5.94010128e-02 -8.25309381e-09 -5.25299159e-08]  la =  23.523523523523526\n",
      "Det Change, lambda = 29.73\n",
      "y_approx =  [-2.50028482e+01  5.93823310e-02 -6.41453135e-10 -4.16828726e-09]  la =  29.72972972972973\n",
      "Det Change, lambda = 36.74\n",
      "y_approx =  [-3.09097415e+01  5.93692547e-02 -7.17763815e-08 -4.62051036e-07]  la =  36.73673673673674\n",
      "Det Change, lambda = 44.34\n",
      "y_approx =  [-3.73229450e+01  5.93591089e-02 -1.72490030e-10 -1.11617342e-09]  la =  44.34434434434435\n",
      "Det Change, lambda = 52.85\n",
      "y_approx =  [-4.44956264e+01  5.92442519e-02  3.02959693e-05  1.94581845e-04]  la =  52.852852852852855\n",
      "Det Change, lambda = 61.96\n",
      "y_approx =  [-5.21745833e+01  5.93456938e-02 -8.44056522e-11 -5.44999726e-10]  la =  61.96196196196197\n",
      "Det Change, lambda = 71.87\n",
      "y_approx =  [-6.05286327e+01  5.93410753e-02 -1.33004291e-08 -8.53112676e-08]  la =  71.87187187187187\n",
      "Det Change, lambda = 82.48\n",
      "y_approx =  [-6.94733737e+01  5.93372994e-02  1.22219647e-10  7.83466010e-10]  la =  82.48248248248248\n",
      "Det Change, lambda = 93.89\n",
      "y_approx =  [-7.90931904e+01  5.93342884e-02 -3.48133634e-08 -2.22866430e-07]  la =  93.8938938938939\n"
     ]
    },
    {
     "data": {
      "image/png": "[encoded data removed]",
      "text/plain": [
       "<Figure size 1440x720 with 1 Axes>"
      ]
     },
     "metadata": {
      "needs_background": "light"
     },
     "output_type": "display_data"
    }
   ],
   "source": [
    "for ij in [1.57]:\n",
    "    D, A, K1, K2 = 10, 2.0, ij, 10\n",
    "    k11, k12, k13, k21, k22, k23 = 0, ij, 10, 0, 10, ij   #  0, K1, K2, 0, K2, K1\n",
    "    init_approx =  [0, 0, 0, 0]\n",
    "    linsp = [0, 100, 1000]\n",
    "    lambdas = np.linspace(linsp[0], linsp[1], linsp[2])\n",
    "    print('D = {D}, A = {A}, K1 = {K1}, K2 = {K2}, linspace({l1}, {l2}, {l3})'.format(D = D, A = A, K1 = ij, K2 = 10, l1 = linsp[0], l2 = linsp[1], l3 = linsp[2]))\n",
    "    K = [k11, k12, k13, k21, k22, k23]\n",
    "    dets, lambdas_for_plot = lambda_iterate(linsp, D, K, A, init_approx, system, bc, 500, filename)\n",
    "    fig = plt.figure(figsize=(20, 10))\n",
    "    ax = fig.gca()    \n",
    "    ax.set_xlabel(\"Lambda\")\n",
    "    ax.set_ylabel(\"Det\")\n",
    "    plt.scatter(lambdas_for_plot, dets, s = 3, color = 'red')\n",
    "    plt.title('D = {D}, A = {A}, K1 = {K1}, K2 = {K2}, linspace({l1}, {l2}, {l3})'.format(D = D, A = A, K1 = ij, K2 = 10, l1 = linsp[0], l2 = linsp[1], l3 = linsp[2]))\n",
    "    plt.grid()\n",
    "    plt.show()"
   ]
  },
  {
   "cell_type": "markdown",
   "metadata": {},
   "source": [
    "## Бифуркационное множество"
   ]
  },
  {
   "cell_type": "markdown",
   "metadata": {},
   "source": [
    "## От k1"
   ]
  },
  {
   "cell_type": "markdown",
   "metadata": {},
   "source": [
    "## k2 = 2, k1"
   ]
  },
  {
   "cell_type": "code",
   "execution_count": 22,
   "metadata": {},
   "outputs": [
    {
     "data": {
      "text/plain": [
       "Text(0.5, 1.0, 'Первая особая лямбда в зависимости от K1, K2 = 2')"
      ]
     },
     "execution_count": 22,
     "metadata": {},
     "output_type": "execute_result"
    },
    {
     "data": {
      "image/png": "[encoded data removed]",
      "text/plain": [
       "<Figure size 640x480 with 1 Axes>"
      ]
     },
     "metadata": {
      "needs_background": "light"
     },
     "output_type": "display_data"
    }
   ],
   "source": [
    "from matplotlib.pyplot import figure\n",
    "figure(figsize=(8, 6), dpi=80)\n",
    "plt.scatter(k1s_pos, firsts_k1, c=\"green\", label=\"First special lambda\")\n",
    "plt.xlabel(\"K1\")\n",
    "plt.ylabel(\"Первая бифуркационная точка\")\n",
    "plt.title(\"Первая особая лямбда в зависимости от K1, K2 = 2\")"
   ]
  },
  {
   "cell_type": "markdown",
   "metadata": {},
   "source": [
    "## （6， 12，24）"
   ]
  },
  {
   "cell_type": "code",
   "execution_count": 4,
   "metadata": {},
   "outputs": [],
   "source": [
    "firsts = []\n",
    "k1s = []"
   ]
  },
  {
   "cell_type": "code",
   "execution_count": 15,
   "metadata": {
    "collapsed": true
   },
   "outputs": [
    {
     "name": "stderr",
     "output_type": "stream",
     "text": [
      "0it [00:00, ?it/s]"
     ]
    },
    {
     "name": "stdout",
     "output_type": "stream",
     "text": [
      "D = 10, A = 2.0, K1 = 6.0, K2 = 1, linspace(0.0, 2.0, 100)\n"
     ]
    },
    {
     "name": "stderr",
     "output_type": "stream",
     "text": [
      "1it [00:24, 24.61s/it]"
     ]
    },
    {
     "name": "stdout",
     "output_type": "stream",
     "text": [
      "D = 10, A = 2.0, K1 = 6.25, K2 = 1, linspace(0.0, 2.0, 100)\n"
     ]
    },
    {
     "name": "stderr",
     "output_type": "stream",
     "text": [
      "2it [00:48, 24.47s/it]"
     ]
    },
    {
     "name": "stdout",
     "output_type": "stream",
     "text": [
      "D = 10, A = 2.0, K1 = 6.5, K2 = 1, linspace(0.0, 2.0, 100)\n"
     ]
    },
    {
     "name": "stderr",
     "output_type": "stream",
     "text": [
      "3it [01:12, 24.30s/it]"
     ]
    },
    {
     "name": "stdout",
     "output_type": "stream",
     "text": [
      "D = 10, A = 2.0, K1 = 6.75, K2 = 1, linspace(0.0, 2.0, 100)\n"
     ]
    },
    {
     "name": "stderr",
     "output_type": "stream",
     "text": [
      "4it [01:36, 24.19s/it]"
     ]
    },
    {
     "name": "stdout",
     "output_type": "stream",
     "text": [
      "D = 10, A = 2.0, K1 = 7.0, K2 = 1, linspace(0.0, 2.0, 100)\n"
     ]
    },
    {
     "name": "stderr",
     "output_type": "stream",
     "text": [
      "5it [02:00, 24.03s/it]"
     ]
    },
    {
     "name": "stdout",
     "output_type": "stream",
     "text": [
      "D = 10, A = 2.0, K1 = 7.25, K2 = 1, linspace(0.0, 2.0, 100)\n"
     ]
    },
    {
     "name": "stderr",
     "output_type": "stream",
     "text": [
      "6it [02:24, 23.95s/it]"
     ]
    },
    {
     "name": "stdout",
     "output_type": "stream",
     "text": [
      "D = 10, A = 2.0, K1 = 7.5, K2 = 1, linspace(0.0, 2.0, 100)\n"
     ]
    },
    {
     "name": "stderr",
     "output_type": "stream",
     "text": [
      "7it [02:47, 23.96s/it]"
     ]
    },
    {
     "name": "stdout",
     "output_type": "stream",
     "text": [
      "D = 10, A = 2.0, K1 = 7.75, K2 = 1, linspace(0.0, 2.0, 100)\n"
     ]
    },
    {
     "name": "stderr",
     "output_type": "stream",
     "text": [
      "8it [03:11, 23.73s/it]"
     ]
    },
    {
     "name": "stdout",
     "output_type": "stream",
     "text": [
      "D = 10, A = 2.0, K1 = 8.0, K2 = 1, linspace(0.0, 2.0, 100)\n"
     ]
    },
    {
     "name": "stderr",
     "output_type": "stream",
     "text": [
      "9it [03:35, 23.87s/it]"
     ]
    },
    {
     "name": "stdout",
     "output_type": "stream",
     "text": [
      "D = 10, A = 2.0, K1 = 8.25, K2 = 1, linspace(0.0, 2.0, 100)\n"
     ]
    },
    {
     "name": "stderr",
     "output_type": "stream",
     "text": [
      "10it [03:58, 23.59s/it]"
     ]
    },
    {
     "name": "stdout",
     "output_type": "stream",
     "text": [
      "D = 10, A = 2.0, K1 = 8.5, K2 = 1, linspace(0.0, 2.0, 100)\n"
     ]
    },
    {
     "name": "stderr",
     "output_type": "stream",
     "text": [
      "11it [04:38, 28.51s/it]"
     ]
    },
    {
     "name": "stdout",
     "output_type": "stream",
     "text": [
      "D = 10, A = 2.0, K1 = 8.75, K2 = 1, linspace(0.0, 2.0, 100)\n"
     ]
    },
    {
     "name": "stderr",
     "output_type": "stream",
     "text": [
      "12it [05:04, 27.72s/it]"
     ]
    },
    {
     "name": "stdout",
     "output_type": "stream",
     "text": [
      "D = 10, A = 2.0, K1 = 9.0, K2 = 1, linspace(0.0, 2.0, 100)\n"
     ]
    },
    {
     "name": "stderr",
     "output_type": "stream",
     "text": [
      "13it [05:30, 27.21s/it]"
     ]
    },
    {
     "name": "stdout",
     "output_type": "stream",
     "text": [
      "D = 10, A = 2.0, K1 = 9.25, K2 = 1, linspace(0.0, 2.0, 100)\n"
     ]
    },
    {
     "name": "stderr",
     "output_type": "stream",
     "text": [
      "14it [05:56, 26.89s/it]"
     ]
    },
    {
     "name": "stdout",
     "output_type": "stream",
     "text": [
      "D = 10, A = 2.0, K1 = 9.5, K2 = 1, linspace(0.0, 2.0, 100)\n"
     ]
    },
    {
     "name": "stderr",
     "output_type": "stream",
     "text": [
      "15it [06:23, 26.94s/it]"
     ]
    },
    {
     "name": "stdout",
     "output_type": "stream",
     "text": [
      "D = 10, A = 2.0, K1 = 9.75, K2 = 1, linspace(0.0, 2.0, 100)\n"
     ]
    },
    {
     "name": "stderr",
     "output_type": "stream",
     "text": [
      "16it [06:51, 27.21s/it]"
     ]
    },
    {
     "name": "stdout",
     "output_type": "stream",
     "text": [
      "D = 10, A = 2.0, K1 = 10.0, K2 = 1, linspace(0.0, 2.0, 100)\n"
     ]
    },
    {
     "name": "stderr",
     "output_type": "stream",
     "text": [
      "17it [07:18, 27.18s/it]"
     ]
    },
    {
     "name": "stdout",
     "output_type": "stream",
     "text": [
      "D = 10, A = 2.0, K1 = 10.25, K2 = 1, linspace(0.0, 2.0, 100)\n"
     ]
    },
    {
     "name": "stderr",
     "output_type": "stream",
     "text": [
      "18it [07:46, 27.55s/it]"
     ]
    },
    {
     "name": "stdout",
     "output_type": "stream",
     "text": [
      "D = 10, A = 2.0, K1 = 10.5, K2 = 1, linspace(0.0, 2.0, 100)\n"
     ]
    },
    {
     "name": "stderr",
     "output_type": "stream",
     "text": [
      "19it [08:14, 27.75s/it]"
     ]
    },
    {
     "name": "stdout",
     "output_type": "stream",
     "text": [
      "D = 10, A = 2.0, K1 = 10.75, K2 = 1, linspace(0.0, 2.0, 100)\n"
     ]
    },
    {
     "name": "stderr",
     "output_type": "stream",
     "text": [
      "20it [08:43, 28.07s/it]"
     ]
    },
    {
     "name": "stdout",
     "output_type": "stream",
     "text": [
      "D = 10, A = 2.0, K1 = 11.0, K2 = 1, linspace(0.0, 2.0, 100)\n"
     ]
    },
    {
     "name": "stderr",
     "output_type": "stream",
     "text": [
      "21it [09:12, 28.37s/it]"
     ]
    },
    {
     "name": "stdout",
     "output_type": "stream",
     "text": [
      "D = 10, A = 2.0, K1 = 11.25, K2 = 1, linspace(0.0, 2.0, 100)\n"
     ]
    },
    {
     "name": "stderr",
     "output_type": "stream",
     "text": [
      "22it [09:42, 28.68s/it]"
     ]
    },
    {
     "name": "stdout",
     "output_type": "stream",
     "text": [
      "D = 10, A = 2.0, K1 = 11.5, K2 = 1, linspace(0.0, 2.0, 100)\n"
     ]
    },
    {
     "name": "stderr",
     "output_type": "stream",
     "text": [
      "23it [10:11, 28.83s/it]"
     ]
    },
    {
     "name": "stdout",
     "output_type": "stream",
     "text": [
      "D = 10, A = 2.0, K1 = 11.75, K2 = 1, linspace(0.0, 2.0, 100)\n"
     ]
    },
    {
     "name": "stderr",
     "output_type": "stream",
     "text": [
      "24it [10:41, 29.10s/it]"
     ]
    },
    {
     "name": "stdout",
     "output_type": "stream",
     "text": [
      "D = 10, A = 2.0, K1 = 12.0, K2 = 1, linspace(0.0, 2.0, 100)\n"
     ]
    },
    {
     "name": "stderr",
     "output_type": "stream",
     "text": [
      "25it [11:11, 26.86s/it]\n"
     ]
    }
   ],
   "source": [
    "k1s_pos = []\n",
    "from tqdm import tqdm\n",
    "filename = \"bifucation_set\"\n",
    "import warnings\n",
    "warnings.filterwarnings(\"ignore\")\n",
    "size = 25\n",
    "linespk11 = np.linspace(6., 12., size)\n",
    "linsp = [0., 2., 100]\n",
    "firsts_k1 = []\n",
    "for ind1, temp in tqdm(enumerate(linespk11)):\n",
    "        D, A = 10, 2.0\n",
    "        K1, K2 = temp, 1\n",
    "        k11, k12, k13, k21, k22, k23 = 0, K1, K2, 0, K2, K1\n",
    "        init_approx = [0] * 4\n",
    "        lambdas = np.linspace(linsp[0], linsp[1], linsp[2])\n",
    "        print('D = {D}, A = {A}, K1 = {K1}, K2 = {K2}, linspace({l1}, {l2}, {l3})'.format(D = D, A = A, K1 = temp, K2 = 1, l1 = linsp[0], l2 = linsp[1], l3 = linsp[2]))\n",
    "        K = [k11, k12, k13, k21, k22, k23]\n",
    "        dets, lambdas_for_plot, la_zero, la_change = lambda_iterate(linsp, D, K, A, init_approx, system, bc, 1000, filename)\n",
    "        dets = dets[1:]\n",
    "        lambdas_for_plot = lambdas_for_plot[1:]\n",
    "        if len(la_zero) == 0:\n",
    "            continue\n",
    "        print(\"first root = \", la_zero[0])\n",
    "        firsts_k1.append(la_zero[0])\n",
    "        k1s_pos.append(K1)\n"
   ]
  },
  {
   "cell_type": "code",
   "execution_count": null,
   "metadata": {},
   "outputs": [],
   "source": []
  },
  {
   "cell_type": "code",
   "execution_count": 24,
   "metadata": {},
   "outputs": [
    {
     "data": {
      "text/plain": [
       "Text(0.5, 1.0, 'Первая особая лямбда в зависимости от K1, K2 = 2')"
      ]
     },
     "execution_count": 24,
     "metadata": {},
     "output_type": "execute_result"
    },
    {
     "data": {
      "image/png": "[encoded data removed]",
      "text/plain": [
       "<Figure size 640x480 with 1 Axes>"
      ]
     },
     "metadata": {
      "needs_background": "light"
     },
     "output_type": "display_data"
    }
   ],
   "source": [
    "from matplotlib.pyplot import figure\n",
    "figure(figsize=(8, 6), dpi=80)\n",
    "plt.scatter(k1s_pos, firsts_k1, c=\"green\", label=\"First special lambda\", linewidth = 5)\n",
    "plt.xlabel(\"K1\")\n",
    "plt.ylabel(\"Первая бифуркационная точка\")\n",
    "plt.title(\"Первая особая лямбда в зависимости от K1, K2 = 2\")"
   ]
  },
  {
   "cell_type": "markdown",
   "metadata": {},
   "source": [
    "## От k2"
   ]
  },
  {
   "cell_type": "markdown",
   "metadata": {},
   "source": [
    "## k2, k1 = 1"
   ]
  },
  {
   "cell_type": "code",
   "execution_count": 77,
   "metadata": {},
   "outputs": [
    {
     "name": "stderr",
     "output_type": "stream",
     "text": [
      "0it [00:00, ?it/s]"
     ]
    },
    {
     "name": "stdout",
     "output_type": "stream",
     "text": [
      "D = 10, A = 2.0, K1 = 1, K2 = 7.0, linspace(0.0, 2.0, 100)\n"
     ]
    },
    {
     "name": "stderr",
     "output_type": "stream",
     "text": [
      "1it [00:20, 20.69s/it]"
     ]
    },
    {
     "name": "stdout",
     "output_type": "stream",
     "text": [
      "special lambda at 0.5656565656565657\n",
      "first root =  0.5656565656565657\n",
      "D = 10, A = 2.0, K1 = 1, K2 = 7.208333333333333, linspace(0.0, 2.0, 100)\n"
     ]
    },
    {
     "name": "stderr",
     "output_type": "stream",
     "text": [
      "2it [00:38, 19.95s/it]"
     ]
    },
    {
     "name": "stdout",
     "output_type": "stream",
     "text": [
      "special lambda at 0.5454545454545455\n",
      "first root =  0.5454545454545455\n",
      "D = 10, A = 2.0, K1 = 1, K2 = 7.416666666666667, linspace(0.0, 2.0, 100)\n"
     ]
    },
    {
     "name": "stderr",
     "output_type": "stream",
     "text": [
      "3it [01:28, 28.79s/it]"
     ]
    },
    {
     "name": "stdout",
     "output_type": "stream",
     "text": [
      "special lambda at 2.0\n",
      "first root =  2.0\n",
      "D = 10, A = 2.0, K1 = 1, K2 = 7.625, linspace(0.0, 2.0, 100)\n"
     ]
    },
    {
     "name": "stderr",
     "output_type": "stream",
     "text": [
      "4it [01:49, 26.53s/it]"
     ]
    },
    {
     "name": "stdout",
     "output_type": "stream",
     "text": [
      "special lambda at 0.5050505050505051\n",
      "first root =  0.5050505050505051\n",
      "D = 10, A = 2.0, K1 = 1, K2 = 7.833333333333333, linspace(0.0, 2.0, 100)\n"
     ]
    },
    {
     "name": "stderr",
     "output_type": "stream",
     "text": [
      "5it [02:09, 24.65s/it]"
     ]
    },
    {
     "name": "stdout",
     "output_type": "stream",
     "text": [
      "special lambda at 0.5050505050505051\n",
      "first root =  0.5050505050505051\n",
      "D = 10, A = 2.0, K1 = 1, K2 = 8.041666666666666, linspace(0.0, 2.0, 100)\n"
     ]
    },
    {
     "name": "stderr",
     "output_type": "stream",
     "text": [
      "6it [02:25, 22.08s/it]"
     ]
    },
    {
     "name": "stdout",
     "output_type": "stream",
     "text": [
      "special lambda at 0.48484848484848486\n",
      "first root =  0.48484848484848486\n",
      "D = 10, A = 2.0, K1 = 1, K2 = 8.25, linspace(0.0, 2.0, 100)\n"
     ]
    },
    {
     "name": "stderr",
     "output_type": "stream",
     "text": [
      "7it [03:00, 25.87s/it]"
     ]
    },
    {
     "name": "stdout",
     "output_type": "stream",
     "text": [
      "D = 10, A = 2.0, K1 = 1, K2 = 8.458333333333334, linspace(0.0, 2.0, 100)\n"
     ]
    },
    {
     "name": "stderr",
     "output_type": "stream",
     "text": [
      "8it [03:24, 25.14s/it]"
     ]
    },
    {
     "name": "stdout",
     "output_type": "stream",
     "text": [
      "special lambda at 0.4646464646464647\n",
      "first root =  0.4646464646464647\n",
      "D = 10, A = 2.0, K1 = 1, K2 = 8.666666666666666, linspace(0.0, 2.0, 100)\n"
     ]
    },
    {
     "name": "stderr",
     "output_type": "stream",
     "text": [
      "9it [04:03, 29.52s/it]"
     ]
    },
    {
     "name": "stdout",
     "output_type": "stream",
     "text": [
      "D = 10, A = 2.0, K1 = 1, K2 = 8.875, linspace(0.0, 2.0, 100)\n"
     ]
    },
    {
     "name": "stderr",
     "output_type": "stream",
     "text": [
      "10it [04:29, 28.26s/it]"
     ]
    },
    {
     "name": "stdout",
     "output_type": "stream",
     "text": [
      "special lambda at 0.42424242424242425\n",
      "first root =  0.42424242424242425\n",
      "D = 10, A = 2.0, K1 = 1, K2 = 9.083333333333334, linspace(0.0, 2.0, 100)\n"
     ]
    },
    {
     "name": "stderr",
     "output_type": "stream",
     "text": [
      "11it [04:50, 26.07s/it]"
     ]
    },
    {
     "name": "stdout",
     "output_type": "stream",
     "text": [
      "special lambda at 0.42424242424242425\n",
      "first root =  0.42424242424242425\n",
      "D = 10, A = 2.0, K1 = 1, K2 = 9.291666666666668, linspace(0.0, 2.0, 100)\n"
     ]
    },
    {
     "name": "stderr",
     "output_type": "stream",
     "text": [
      "12it [05:16, 26.08s/it]"
     ]
    },
    {
     "name": "stdout",
     "output_type": "stream",
     "text": [
      "special lambda at 0.4040404040404041\n",
      "first root =  0.4040404040404041\n",
      "D = 10, A = 2.0, K1 = 1, K2 = 9.5, linspace(0.0, 2.0, 100)\n"
     ]
    },
    {
     "name": "stderr",
     "output_type": "stream",
     "text": [
      "13it [05:30, 22.51s/it]"
     ]
    },
    {
     "name": "stdout",
     "output_type": "stream",
     "text": [
      "special lambda at 0.4040404040404041\n",
      "first root =  0.4040404040404041\n",
      "D = 10, A = 2.0, K1 = 1, K2 = 9.708333333333334, linspace(0.0, 2.0, 100)\n"
     ]
    },
    {
     "name": "stderr",
     "output_type": "stream",
     "text": [
      "14it [06:06, 26.48s/it]"
     ]
    },
    {
     "name": "stdout",
     "output_type": "stream",
     "text": [
      "special lambda at 1.474747474747475\n",
      "first root =  1.474747474747475\n",
      "D = 10, A = 2.0, K1 = 1, K2 = 9.916666666666668, linspace(0.0, 2.0, 100)\n"
     ]
    },
    {
     "name": "stderr",
     "output_type": "stream",
     "text": [
      "15it [06:27, 24.94s/it]"
     ]
    },
    {
     "name": "stdout",
     "output_type": "stream",
     "text": [
      "special lambda at 0.38383838383838387\n",
      "first root =  0.38383838383838387\n",
      "D = 10, A = 2.0, K1 = 1, K2 = 10.125, linspace(0.0, 2.0, 100)\n"
     ]
    },
    {
     "name": "stderr",
     "output_type": "stream",
     "text": [
      "16it [06:36, 20.03s/it]"
     ]
    },
    {
     "name": "stdout",
     "output_type": "stream",
     "text": [
      "special lambda at 0.36363636363636365\n",
      "first root =  0.36363636363636365\n",
      "D = 10, A = 2.0, K1 = 1, K2 = 10.333333333333334, linspace(0.0, 2.0, 100)\n"
     ]
    },
    {
     "name": "stderr",
     "output_type": "stream",
     "text": [
      "17it [06:52, 19.06s/it]"
     ]
    },
    {
     "name": "stdout",
     "output_type": "stream",
     "text": [
      "special lambda at 0.36363636363636365\n",
      "first root =  0.36363636363636365\n",
      "D = 10, A = 2.0, K1 = 1, K2 = 10.541666666666668, linspace(0.0, 2.0, 100)\n"
     ]
    },
    {
     "name": "stderr",
     "output_type": "stream",
     "text": [
      "18it [07:13, 19.55s/it]"
     ]
    },
    {
     "name": "stdout",
     "output_type": "stream",
     "text": [
      "special lambda at 0.36363636363636365\n",
      "first root =  0.36363636363636365\n",
      "D = 10, A = 2.0, K1 = 1, K2 = 10.75, linspace(0.0, 2.0, 100)\n"
     ]
    },
    {
     "name": "stderr",
     "output_type": "stream",
     "text": [
      "19it [07:57, 26.95s/it]"
     ]
    },
    {
     "name": "stdout",
     "output_type": "stream",
     "text": [
      "D = 10, A = 2.0, K1 = 1, K2 = 10.958333333333334, linspace(0.0, 2.0, 100)\n"
     ]
    },
    {
     "name": "stderr",
     "output_type": "stream",
     "text": [
      "20it [08:06, 21.36s/it]"
     ]
    },
    {
     "name": "stdout",
     "output_type": "stream",
     "text": [
      "special lambda at 0.3434343434343435\n",
      "first root =  0.3434343434343435\n",
      "D = 10, A = 2.0, K1 = 1, K2 = 11.166666666666668, linspace(0.0, 2.0, 100)\n"
     ]
    },
    {
     "name": "stderr",
     "output_type": "stream",
     "text": [
      "21it [08:37, 24.32s/it]"
     ]
    },
    {
     "name": "stdout",
     "output_type": "stream",
     "text": [
      "special lambda at 1.2525252525252526\n",
      "first root =  1.2525252525252526\n",
      "D = 10, A = 2.0, K1 = 1, K2 = 11.375, linspace(0.0, 2.0, 100)\n"
     ]
    },
    {
     "name": "stderr",
     "output_type": "stream",
     "text": [
      "22it [08:52, 21.71s/it]"
     ]
    },
    {
     "name": "stdout",
     "output_type": "stream",
     "text": [
      "special lambda at 0.32323232323232326\n",
      "first root =  0.32323232323232326\n",
      "D = 10, A = 2.0, K1 = 1, K2 = 11.583333333333334, linspace(0.0, 2.0, 100)\n"
     ]
    },
    {
     "name": "stderr",
     "output_type": "stream",
     "text": [
      "23it [09:05, 18.94s/it]"
     ]
    },
    {
     "name": "stdout",
     "output_type": "stream",
     "text": [
      "special lambda at 0.32323232323232326\n",
      "first root =  0.32323232323232326\n",
      "D = 10, A = 2.0, K1 = 1, K2 = 11.791666666666668, linspace(0.0, 2.0, 100)\n"
     ]
    },
    {
     "name": "stderr",
     "output_type": "stream",
     "text": [
      "24it [09:17, 16.75s/it]"
     ]
    },
    {
     "name": "stdout",
     "output_type": "stream",
     "text": [
      "special lambda at 0.32323232323232326\n",
      "first root =  0.32323232323232326\n",
      "D = 10, A = 2.0, K1 = 1, K2 = 12.0, linspace(0.0, 2.0, 100)\n"
     ]
    },
    {
     "name": "stderr",
     "output_type": "stream",
     "text": [
      "25it [09:25, 22.64s/it]"
     ]
    },
    {
     "name": "stdout",
     "output_type": "stream",
     "text": [
      "special lambda at 0.30303030303030304\n",
      "first root =  0.30303030303030304\n"
     ]
    },
    {
     "name": "stderr",
     "output_type": "stream",
     "text": [
      "\n"
     ]
    }
   ],
   "source": [
    "k2s_pos = []\n",
    "from tqdm import tqdm\n",
    "filename = \"bifucation_set\"\n",
    "import warnings\n",
    "warnings.filterwarnings(\"ignore\")\n",
    "size = 25\n",
    "linespk11 = np.linspace(7., 12., size)\n",
    "linsp = [0., 2., 100]\n",
    "firsts_k2 = []\n",
    "for ind1, temp in tqdm(enumerate(linespk11)):\n",
    "        D, A = 10, 2.0\n",
    "        K1, K2 = 1, temp\n",
    "        k11, k12, k13, k21, k22, k23 = 0, K1, K2, 0, K2, K1\n",
    "        init_approx = [0] * 4\n",
    "        lambdas = np.linspace(linsp[0], linsp[1], linsp[2])\n",
    "        print('D = {D}, A = {A}, K1 = {K1}, K2 = {K2}, linspace({l1}, {l2}, {l3})'.format(D = D, A = A, K1 = 1, K2 = temp, l1 = linsp[0], l2 = linsp[1], l3 = linsp[2]))\n",
    "        K = [k11, k12, k13, k21, k22, k23]\n",
    "        dets, lambdas_for_plot, la_zero, la_change = lambda_iterate(linsp, D, K, A, init_approx, system, bc, 1000, filename)\n",
    "        dets = dets[1:]\n",
    "        lambdas_for_plot = lambdas_for_plot[1:]\n",
    "        if len(la_zero) == 0:\n",
    "            continue\n",
    "#         fig = plt.figure(figsize=(15, 5))\n",
    "#         ax = fig.gca()\n",
    "#         ax.set_xlabel(\"Lambda\")\n",
    "#         ax.set_ylabel(\"Det\")\n",
    "#         plt.scatter(lambdas_for_plot, dets, s = 3, color = 'red')\n",
    "#         plt.title('D = {D}, A = {A}, K1 = {K1}, K2 = {K2}, linspace({l1}, {l2}, {l3})'.format(D = D, A = A, K1 = ij1, K2 = ij2, l1 = linsp[0], l2 = linsp[1], l3 = linsp[2]))\n",
    "#         plt.grid()\n",
    "#         plt.show()\n",
    "        print(\"first root = \", la_zero[0])\n",
    "        firsts_k2.append(la_zero[0])\n",
    "        k2s_pos.append(K2)\n"
   ]
  },
  {
   "cell_type": "code",
   "execution_count": 90,
   "metadata": {},
   "outputs": [
    {
     "data": {
      "text/plain": [
       "Text(0.5, 1.0, 'Первая особая лямбда в зависимости от K2, K1 = 1 ')"
      ]
     },
     "execution_count": 90,
     "metadata": {},
     "output_type": "execute_result"
    },
    {
     "data": {
      "image/png": "[encoded data removed]",
      "text/plain": [
       "<Figure size 640x480 with 1 Axes>"
      ]
     },
     "metadata": {
      "needs_background": "light"
     },
     "output_type": "display_data"
    }
   ],
   "source": [
    "from matplotlib.pyplot import figure\n",
    "figure(figsize=(8, 6), dpi=80)\n",
    "plt.scatter(k2s_pos, firsts_k2, c=\"green\", label=\"First special lambda\")\n",
    "plt.xlabel(\"K2\")\n",
    "plt.ylabel(\"Первая бифуркационная точка\")\n",
    "plt.title(\"Первая особая лямбда в зависимости от K2, K1 = 1 \")\n"
   ]
  },
  {
   "cell_type": "code",
   "execution_count": 53,
   "metadata": {},
   "outputs": [
    {
     "name": "stderr",
     "output_type": "stream",
     "text": [
      "0it [00:00, ?it/s]"
     ]
    },
    {
     "name": "stdout",
     "output_type": "stream",
     "text": [
      "D = 10, A = 2.0, K1 = 2, K2 = 6.0, linspace(0.0, 2.0, 100)\n"
     ]
    },
    {
     "name": "stderr",
     "output_type": "stream",
     "text": [
      "1it [00:24, 24.49s/it]"
     ]
    },
    {
     "name": "stdout",
     "output_type": "stream",
     "text": [
      "special lambda at 0.9292929292929294\n",
      "first root =  0.9292929292929294\n",
      "D = 10, A = 2.0, K1 = 2, K2 = 6.260869565217392, linspace(0.0, 2.0, 100)\n"
     ]
    },
    {
     "name": "stderr",
     "output_type": "stream",
     "text": [
      "2it [00:49, 24.74s/it]"
     ]
    },
    {
     "name": "stdout",
     "output_type": "stream",
     "text": [
      "special lambda at 0.8484848484848485\n",
      "first root =  0.8484848484848485\n",
      "D = 10, A = 2.0, K1 = 2, K2 = 6.521739130434782, linspace(0.0, 2.0, 100)\n"
     ]
    },
    {
     "name": "stderr",
     "output_type": "stream",
     "text": [
      "3it [01:13, 24.54s/it]"
     ]
    },
    {
     "name": "stdout",
     "output_type": "stream",
     "text": [
      "special lambda at 0.8080808080808082\n",
      "first root =  0.8080808080808082\n",
      "D = 10, A = 2.0, K1 = 2, K2 = 6.782608695652174, linspace(0.0, 2.0, 100)\n"
     ]
    },
    {
     "name": "stderr",
     "output_type": "stream",
     "text": [
      "4it [01:28, 21.54s/it]"
     ]
    },
    {
     "name": "stdout",
     "output_type": "stream",
     "text": [
      "special lambda at 0.7474747474747475\n",
      "first root =  0.7474747474747475\n",
      "D = 10, A = 2.0, K1 = 2, K2 = 7.043478260869565, linspace(0.0, 2.0, 100)\n"
     ]
    },
    {
     "name": "stderr",
     "output_type": "stream",
     "text": [
      "5it [01:43, 19.66s/it]"
     ]
    },
    {
     "name": "stdout",
     "output_type": "stream",
     "text": [
      "special lambda at 0.7070707070707072\n",
      "first root =  0.7070707070707072\n",
      "D = 10, A = 2.0, K1 = 2, K2 = 7.304347826086957, linspace(0.0, 2.0, 100)\n"
     ]
    },
    {
     "name": "stderr",
     "output_type": "stream",
     "text": [
      "6it [01:58, 18.14s/it]"
     ]
    },
    {
     "name": "stdout",
     "output_type": "stream",
     "text": [
      "special lambda at 0.6666666666666667\n",
      "first root =  0.6666666666666667\n",
      "D = 10, A = 2.0, K1 = 2, K2 = 7.565217391304348, linspace(0.0, 2.0, 100)\n"
     ]
    },
    {
     "name": "stderr",
     "output_type": "stream",
     "text": [
      "7it [02:31, 22.81s/it]"
     ]
    },
    {
     "name": "stdout",
     "output_type": "stream",
     "text": [
      "special lambda at 0.6464646464646465\n",
      "first root =  0.6464646464646465\n",
      "D = 10, A = 2.0, K1 = 2, K2 = 7.826086956521739, linspace(0.0, 2.0, 100)\n"
     ]
    },
    {
     "name": "stderr",
     "output_type": "stream",
     "text": [
      "8it [02:59, 24.23s/it]"
     ]
    },
    {
     "name": "stdout",
     "output_type": "stream",
     "text": [
      "special lambda at 0.6060606060606061\n",
      "first root =  0.6060606060606061\n",
      "D = 10, A = 2.0, K1 = 2, K2 = 8.08695652173913, linspace(0.0, 2.0, 100)\n"
     ]
    },
    {
     "name": "stderr",
     "output_type": "stream",
     "text": [
      "9it [03:24, 24.51s/it]"
     ]
    },
    {
     "name": "stdout",
     "output_type": "stream",
     "text": [
      "special lambda at 0.5858585858585859\n",
      "first root =  0.5858585858585859\n",
      "D = 10, A = 2.0, K1 = 2, K2 = 8.347826086956522, linspace(0.0, 2.0, 100)\n"
     ]
    },
    {
     "name": "stderr",
     "output_type": "stream",
     "text": [
      "10it [03:53, 25.88s/it]"
     ]
    },
    {
     "name": "stdout",
     "output_type": "stream",
     "text": [
      "special lambda at 0.5656565656565657\n",
      "first root =  0.5656565656565657\n",
      "D = 10, A = 2.0, K1 = 2, K2 = 8.608695652173914, linspace(0.0, 2.0, 100)\n"
     ]
    },
    {
     "name": "stderr",
     "output_type": "stream",
     "text": [
      "11it [04:20, 26.05s/it]"
     ]
    },
    {
     "name": "stdout",
     "output_type": "stream",
     "text": [
      "special lambda at 0.5454545454545455\n",
      "first root =  0.5454545454545455\n",
      "D = 10, A = 2.0, K1 = 2, K2 = 8.869565217391305, linspace(0.0, 2.0, 100)\n"
     ]
    },
    {
     "name": "stderr",
     "output_type": "stream",
     "text": [
      "12it [04:36, 23.08s/it]"
     ]
    },
    {
     "name": "stdout",
     "output_type": "stream",
     "text": [
      "special lambda at 0.5050505050505051\n",
      "first root =  0.5050505050505051\n",
      "D = 10, A = 2.0, K1 = 2, K2 = 9.130434782608695, linspace(0.0, 2.0, 100)\n"
     ]
    },
    {
     "name": "stderr",
     "output_type": "stream",
     "text": [
      "13it [05:18, 28.65s/it]"
     ]
    },
    {
     "name": "stdout",
     "output_type": "stream",
     "text": [
      "D = 10, A = 2.0, K1 = 2, K2 = 9.391304347826086, linspace(0.0, 2.0, 100)\n"
     ]
    },
    {
     "name": "stderr",
     "output_type": "stream",
     "text": [
      "14it [05:41, 27.18s/it]"
     ]
    },
    {
     "name": "stdout",
     "output_type": "stream",
     "text": [
      "special lambda at 0.48484848484848486\n",
      "first root =  0.48484848484848486\n",
      "D = 10, A = 2.0, K1 = 2, K2 = 9.652173913043478, linspace(0.0, 2.0, 100)\n"
     ]
    },
    {
     "name": "stderr",
     "output_type": "stream",
     "text": [
      "15it [05:49, 21.20s/it]"
     ]
    },
    {
     "name": "stdout",
     "output_type": "stream",
     "text": [
      "special lambda at 0.4646464646464647\n",
      "first root =  0.4646464646464647\n",
      "D = 10, A = 2.0, K1 = 2, K2 = 9.91304347826087, linspace(0.0, 2.0, 100)\n"
     ]
    },
    {
     "name": "stderr",
     "output_type": "stream",
     "text": [
      "16it [06:02, 18.88s/it]"
     ]
    },
    {
     "name": "stdout",
     "output_type": "stream",
     "text": [
      "special lambda at 0.4444444444444445\n",
      "first root =  0.4444444444444445\n",
      "D = 10, A = 2.0, K1 = 2, K2 = 10.173913043478262, linspace(0.0, 2.0, 100)\n"
     ]
    },
    {
     "name": "stderr",
     "output_type": "stream",
     "text": [
      "17it [06:20, 18.49s/it]"
     ]
    },
    {
     "name": "stdout",
     "output_type": "stream",
     "text": [
      "special lambda at 0.42424242424242425\n",
      "first root =  0.42424242424242425\n",
      "D = 10, A = 2.0, K1 = 2, K2 = 10.434782608695652, linspace(0.0, 2.0, 100)\n"
     ]
    },
    {
     "name": "stderr",
     "output_type": "stream",
     "text": [
      "18it [06:36, 17.83s/it]"
     ]
    },
    {
     "name": "stdout",
     "output_type": "stream",
     "text": [
      "special lambda at 0.42424242424242425\n",
      "first root =  0.42424242424242425\n",
      "D = 10, A = 2.0, K1 = 2, K2 = 10.695652173913043, linspace(0.0, 2.0, 100)\n"
     ]
    },
    {
     "name": "stderr",
     "output_type": "stream",
     "text": [
      "19it [06:51, 16.97s/it]"
     ]
    },
    {
     "name": "stdout",
     "output_type": "stream",
     "text": [
      "special lambda at 0.4040404040404041\n",
      "first root =  0.4040404040404041\n",
      "D = 10, A = 2.0, K1 = 2, K2 = 10.956521739130434, linspace(0.0, 2.0, 100)\n"
     ]
    },
    {
     "name": "stderr",
     "output_type": "stream",
     "text": [
      "20it [07:19, 20.40s/it]"
     ]
    },
    {
     "name": "stdout",
     "output_type": "stream",
     "text": [
      "special lambda at 1.4343434343434345\n",
      "first root =  1.4343434343434345\n",
      "D = 10, A = 2.0, K1 = 2, K2 = 11.217391304347826, linspace(0.0, 2.0, 100)\n"
     ]
    },
    {
     "name": "stderr",
     "output_type": "stream",
     "text": [
      "21it [07:56, 25.34s/it]"
     ]
    },
    {
     "name": "stdout",
     "output_type": "stream",
     "text": [
      "D = 10, A = 2.0, K1 = 2, K2 = 11.478260869565217, linspace(0.0, 2.0, 100)\n"
     ]
    },
    {
     "name": "stderr",
     "output_type": "stream",
     "text": [
      "22it [08:26, 26.81s/it]"
     ]
    },
    {
     "name": "stdout",
     "output_type": "stream",
     "text": [
      "special lambda at 0.36363636363636365\n",
      "first root =  0.36363636363636365\n",
      "D = 10, A = 2.0, K1 = 2, K2 = 11.73913043478261, linspace(0.0, 2.0, 100)\n"
     ]
    },
    {
     "name": "stderr",
     "output_type": "stream",
     "text": [
      "23it [08:45, 24.31s/it]"
     ]
    },
    {
     "name": "stdout",
     "output_type": "stream",
     "text": [
      "special lambda at 0.36363636363636365\n",
      "first root =  0.36363636363636365\n",
      "D = 10, A = 2.0, K1 = 2, K2 = 12.0, linspace(0.0, 2.0, 100)\n"
     ]
    },
    {
     "name": "stderr",
     "output_type": "stream",
     "text": [
      "24it [08:59, 22.48s/it]"
     ]
    },
    {
     "name": "stdout",
     "output_type": "stream",
     "text": [
      "special lambda at 0.3434343434343435\n",
      "first root =  0.3434343434343435\n"
     ]
    },
    {
     "name": "stderr",
     "output_type": "stream",
     "text": [
      "\n"
     ]
    },
    {
     "data": {
      "text/plain": [
       "Text(0.5, 1.0, 'Первая особая лямбда в зависимости от K2, K1 = 2 ')"
      ]
     },
     "execution_count": 53,
     "metadata": {},
     "output_type": "execute_result"
    },
    {
     "data": {
      "image/png": "[encoded data removed]",
      "text/plain": [
       "<Figure size 640x480 with 1 Axes>"
      ]
     },
     "metadata": {
      "needs_background": "light"
     },
     "output_type": "display_data"
    }
   ],
   "source": [
    "k2s_pos = []\n",
    "from tqdm import tqdm\n",
    "filename = \"bifucation_set\"\n",
    "import warnings\n",
    "warnings.filterwarnings(\"ignore\")\n",
    "size = 24\n",
    "linespk11 = np.linspace(6., 12., size)\n",
    "linsp = [0., 2., 100]\n",
    "firsts_k2 = []\n",
    "for ind1, temp in tqdm(enumerate(linespk11)):\n",
    "        D, A = 10, 2.0\n",
    "        K1, K2 = 2, temp\n",
    "        k11, k12, k13, k21, k22, k23 = 0, K1, K2, 0, K2, K1\n",
    "        init_approx = [0] * 4\n",
    "        lambdas = np.linspace(linsp[0], linsp[1], linsp[2])\n",
    "        print('D = {D}, A = {A}, K1 = {K1}, K2 = {K2}, linspace({l1}, {l2}, {l3})'.format(D = D, A = A, K1 = 2, K2 = temp, l1 = linsp[0], l2 = linsp[1], l3 = linsp[2]))\n",
    "        K = [k11, k12, k13, k21, k22, k23]\n",
    "        dets, lambdas_for_plot, la_zero, la_change = lambda_iterate(linsp, D, K, A, init_approx, system, bc, 1000, filename)\n",
    "        dets = dets[1:]\n",
    "        lambdas_for_plot = lambdas_for_plot[1:]\n",
    "        if len(la_zero) == 0:\n",
    "            continue\n",
    "#         fig = plt.figure(figsize=(15, 5))\n",
    "#         ax = fig.gca()\n",
    "#         ax.set_xlabel(\"Lambda\")\n",
    "#         ax.set_ylabel(\"Det\")\n",
    "#         plt.scatter(lambdas_for_plot, dets, s = 3, color = 'red')\n",
    "#         plt.title('D = {D}, A = {A}, K1 = {K1}, K2 = {K2}, linspace({l1}, {l2}, {l3})'.format(D = D, A = A, K1 = ij1, K2 = ij2, l1 = linsp[0], l2 = linsp[1], l3 = linsp[2]))\n",
    "#         plt.grid()\n",
    "#         plt.show()\n",
    "        print(\"first root = \", la_zero[0])\n",
    "        firsts_k2.append(la_zero[0])\n",
    "        k2s_pos.append(K2)\n",
    "from matplotlib.pyplot import figure\n",
    "figure(figsize=(8, 6), dpi=80)\n",
    "plt.plot(k2s_pos, firsts_k2, c=\"green\", label=\"First special lambda\")\n",
    "plt.xlabel(\"K2\")\n",
    "plt.ylabel(\"Первая бифуркационная точка\")\n",
    "plt.title(\"Первая особая лямбда в зависимости от K2, K1 = 2 \")"
   ]
  },
  {
   "cell_type": "code",
   "execution_count": 61,
   "metadata": {},
   "outputs": [
    {
     "data": {
      "text/plain": [
       "Text(0.5, 1.0, 'Первая особая лямбда в зависимости от K2, K1 = 2 ')"
      ]
     },
     "execution_count": 61,
     "metadata": {},
     "output_type": "execute_result"
    },
    {
     "data": {
      "image/png": "[encoded data removed]",
      "text/plain": [
       "<Figure size 640x480 with 1 Axes>"
      ]
     },
     "metadata": {
      "needs_background": "light"
     },
     "output_type": "display_data"
    }
   ],
   "source": [
    "from matplotlib.pyplot import figure\n",
    "figure(figsize=(8, 6), dpi=80)\n",
    "plt.scatter(k2s_pos, firsts_k2, c=\"green\", label=\"First special lambda\")\n",
    "plt.xlabel(\"K2\")\n",
    "plt.ylabel(\"Первая бифуркационная точка\")\n",
    "plt.title(\"Первая особая лямбда в зависимости от K2, K1 = 2 \")"
   ]
  },
  {
   "cell_type": "markdown",
   "metadata": {},
   "source": [
    "## k1, k2 не фик"
   ]
  },
  {
   "cell_type": "code",
   "execution_count": null,
   "metadata": {},
   "outputs": [
    {
     "name": "stderr",
     "output_type": "stream",
     "text": [
      "0it [00:00, ?it/s]\n",
      "0it [00:00, ?it/s]\u001b[A"
     ]
    },
    {
     "name": "stdout",
     "output_type": "stream",
     "text": [
      "D = 10, A = 2.0, K1 = 1.5, K2 = 10.0, linspace(0.0, 1.0, 100)\n"
     ]
    },
    {
     "name": "stderr",
     "output_type": "stream",
     "text": [
      "\n",
      "1it [00:07,  7.48s/it]\u001b[A"
     ]
    },
    {
     "name": "stdout",
     "output_type": "stream",
     "text": [
      "special lambda at 0.07070707070707072\n",
      "first root =  0.07070707070707072\n",
      "D = 10, A = 2.0, K1 = 1.5, K2 = 10.066666666666666, linspace(0.0, 1.0, 100)\n"
     ]
    }
   ],
   "source": [
    "k2s_pos = []\n",
    "from tqdm import tqdm\n",
    "filename = \"bifucation_set\"\n",
    "import warnings\n",
    "warnings.filterwarnings(\"ignore\")\n",
    "size = 4\n",
    "linespk11 = np.linspace(1.5, 1.7, size)\n",
    "linespk22 = np.linspace(10., 10.2, size)\n",
    "linsp = [0., 1.0, 100]\n",
    "firsts = [[0.]* size for i in range(size)]\n",
    "k1k2 = []\n",
    "matrix_dets = []\n",
    "matrix_lams = []\n",
    "for ind1, K1_ in tqdm(enumerate(linespk11)):\n",
    "    for ind2, K2_ in tqdm(enumerate(linespk22)):\n",
    "        D, A = 10, 2.0\n",
    "        k11, k12, k13, k21, k22, k23 = 0, K1_, K2_, 0, K2_, K1_\n",
    "        init_approx = [0] * 4\n",
    "        lambdas = np.linspace(linsp[0], linsp[1], linsp[2])\n",
    "        print('D = {D}, A = {A}, K1 = {K1}, K2 = {K2}, linspace({l1}, {l2}, {l3})'.format(D = D, A = A, K1 = K1_, K2 = K2_, l1 = linsp[0], l2 = linsp[1], l3 = linsp[2]))\n",
    "        K = [k11, k12, k13, k21, k22, k23]\n",
    "        dets, lambdas_for_plot, la_zero, la_change = lambda_iterate(linsp, D, K, A, init_approx, system, bc, 1000, filename)\n",
    "        dets = dets[1:]\n",
    "        lambdas_for_plot = lambdas_for_plot[1:]\n",
    "        matrix_dets.append(dets)\n",
    "        matrix_lams.append(lambdas_for_plot)\n",
    "        if len(la_zero) == 0:\n",
    "            continue\n",
    "        print(\"first root = \", la_zero[0])\n",
    "        k1k2.append([la_zero[0], K1_, K2_])\n",
    "        firsts[ind1][ind2] = la_zero[0]\n"
   ]
  },
  {
   "cell_type": "code",
   "execution_count": 22,
   "metadata": {},
   "outputs": [
    {
     "name": "stdout",
     "output_type": "stream",
     "text": [
      "[0.07070707070707072, 0.19191919191919193, 0.22222222222222224, 0.30303030303030304]\n",
      "[0.06060606060606061, 0.22222222222222224, 0.30303030303030304, 0.08080808080808081]\n",
      "[0.22222222222222224, 0.31313131313131315, 0.20202020202020204, 0.22222222222222224]\n",
      "[0.32323232323232326, 0.20202020202020204, 0.20202020202020204, 0.23232323232323235]\n"
     ]
    }
   ],
   "source": [
    "for line in firsts:\n",
    "    print(line)"
   ]
  },
  {
   "cell_type": "code",
   "execution_count": 26,
   "metadata": {},
   "outputs": [
    {
     "name": "stdout",
     "output_type": "stream",
     "text": [
      "[1.5, 1.5, 1.5, 1.5, 1.5666666666666667, 1.5666666666666667, 1.5666666666666667, 1.5666666666666667, 1.6333333333333333, 1.6333333333333333, 1.6333333333333333, 1.6333333333333333, 1.7, 1.7, 1.7, 1.7]\n",
      "[10.0, 10.066666666666666, 10.133333333333333, 10.2, 10.0, 10.066666666666666, 10.133333333333333, 10.2, 10.0, 10.066666666666666, 10.133333333333333, 10.2, 10.0, 10.066666666666666, 10.133333333333333, 10.2]\n",
      "[0.07070707070707072, 0.19191919191919193, 0.22222222222222224, 0.30303030303030304, 0.06060606060606061, 0.22222222222222224, 0.30303030303030304, 0.08080808080808081, 0.22222222222222224, 0.31313131313131315, 0.20202020202020204, 0.22222222222222224, 0.32323232323232326, 0.20202020202020204, 0.20202020202020204, 0.23232323232323235]\n"
     ]
    }
   ],
   "source": [
    "k1s_ = []\n",
    "k2s_ = []\n",
    "lams = []\n",
    "for elem in k1k2:\n",
    "    lams.append(elem[0])\n",
    "    k1s_.append(elem[1])\n",
    "    k2s_.append(elem[2])\n",
    "print(k1s_)\n",
    "print(k2s_)\n",
    "print(lams)"
   ]
  },
  {
   "cell_type": "code",
   "execution_count": 27,
   "metadata": {},
   "outputs": [
    {
     "data": {
      "image/png": "[encoded data removed]",
      "text/plain": [
       "<Figure size 640x480 with 1 Axes>"
      ]
     },
     "metadata": {
      "needs_background": "light"
     },
     "output_type": "display_data"
    }
   ],
   "source": [
    "from pylab import figure, cm\n",
    "from matplotlib.pyplot import figure\n",
    "figure(figsize=(8, 6), dpi=80)\n",
    "ax = plt.axes(projection='3d')\n",
    "\n",
    "# Data for a three-dimensional line\n",
    "# zline = np.array(res)[1:, 3:]\n",
    "xline, yline = np.meshgrid(np.linspace(1.5, 1.7, size), np.linspace(10., 10.2, size))\n",
    "# ax.scatter3D(xline, yline, zline, 50, cmap=cm.jet)\n",
    "# print(linespk1, linespk2, zline, sep='\\n')\n",
    "\n",
    "ax.scatter3D(k1s_, k2s_, lams, color='purple')\n",
    "# ax.plot_surface(xline, yline, np.array(firsts), rstride=1, cstride=1, cmap='viridis', edgecolor='none')\n",
    "ax.set_xlabel(\"K1\")\n",
    "ax.set_ylabel(\"K2\")\n",
    "# ax.set_zlabel(\"bif lambdas\")\n",
    "plt.title(\"First positive bifurcation point values\")\n",
    "plt.show()"
   ]
  },
  {
   "cell_type": "markdown",
   "metadata": {},
   "source": [
    "## SVD"
   ]
  },
  {
   "cell_type": "code",
   "execution_count": 9,
   "metadata": {},
   "outputs": [],
   "source": [
    "A = 2\n",
    "time_steps = np.linspace(-A, A, 100)\n",
    "def lambda_iterate_svd(linsp, D, K, A, init_approx, system, bc, draw_nth, filename):\n",
    "    global la\n",
    "    params, bc_params = [], []\n",
    "    lambdas = np.linspace(linsp[0], linsp[1], linsp[2])\n",
    "    s1 = []\n",
    "    s2 = []\n",
    "    steps = []\n",
    "    abcFile = open(filename, 'a')\n",
    "    y_approx = init_approx\n",
    "    cnt = 0\n",
    "#     time_steps = np.linspace(-A, A, 100)\n",
    "    for la in lambdas:\n",
    "        cnt += 1\n",
    "        result = shooting(time_steps, y_approx, system, params, bc, bc_params, filename)\n",
    "        if result[0] > 1:\n",
    "            print(\"MISTAKE AT la = \", la, \"det = \", det, file=abcFile)\n",
    "            continue\n",
    "        print(\"y_approx = \", y_approx, \" la = \", la, file = abcFile)\n",
    "            \n",
    "    # сохранить точку смены знака\n",
    "        y_approx = result[1]\n",
    "        steps.append(la)\n",
    "        s1.append(result[4][-1])\n",
    "        s2.append(result[4][-2])\n",
    "    return s1, s2, steps"
   ]
  },
  {
   "cell_type": "code",
   "execution_count": 10,
   "metadata": {},
   "outputs": [
    {
     "data": {
      "image/png": "[encoded data removed]",
      "text/plain": [
       "<Figure size 432x288 with 1 Axes>"
      ]
     },
     "metadata": {
      "needs_background": "light"
     },
     "output_type": "display_data"
    }
   ],
   "source": [
    "la = 3.4\n",
    "old_la = la\n",
    "delta = 1\n",
    "linsp = [la - delta, la + delta, 150]\n",
    "y0 = [-2.81031432e+00,  5.99377879e-02, -1.02826227e-07, -7.53026378e-07]\n",
    "D, A, K1, K2 = 10, 2.0, 1.57, 10\n",
    "k11, k12, k13, k21, k22, k23 = 0, 1.57, 10, 0, 10, 1.57 \n",
    "K = [k11, k12, k13, k21, k22, k23]\n",
    "filename=\"svds\"\n",
    "s1_, s2_, steps_ = lambda_iterate_svd(linsp, D, A, K, y0, system, bc, 50, filename)\n",
    "plt.scatter(steps_, s1_, color=\"red\", s=10, label = \"least\")\n",
    "plt.scatter(steps_, s2_, color=\"green\", s=10, label = \"second least\")\n",
    "plt.title(\"Lambda = {}\".format(round(old_la, 2)))\n",
    "plt.legend()\n",
    "plt.grid()\n",
    "plt.show()"
   ]
  },
  {
   "cell_type": "code",
   "execution_count": 121,
   "metadata": {},
   "outputs": [
    {
     "data": {
      "image/png": "[encoded data removed]",
      "text/plain": [
       "<Figure size 432x288 with 1 Axes>"
      ]
     },
     "metadata": {
      "needs_background": "light"
     },
     "output_type": "display_data"
    }
   ],
   "source": [
    "la =  5.91\n",
    "old_la = la\n",
    "delta = 1\n",
    "linsp = [la - delta, la + delta, 500]\n",
    "y0 = [-4.91965201e+00,  5.96693622e-02,  1.92480467e-09,  2.89947084e-08]\n",
    "D, A, K1, K2 = 10, 2.0, 1.57, 10\n",
    "k11, k12, k13, k21, k22, k23 = 0, 1.57, 10, 0, 10, 1.57 \n",
    "K = [k11, k12, k13, k21, k22, k23]\n",
    "filename=\"svds\"\n",
    "s1_, s2_, steps_ = lambda_iterate_svd(linsp, D, A, K, y0, system, bc, 50, filename)\n",
    "plt.scatter(steps_, s1_, color=\"red\", s=20, label = \"least\")\n",
    "plt.scatter(steps_, s2_, color=\"green\", s=20, label = \"second least\")\n",
    "plt.title(\"Lambda = {}\".format(round(old_la, 2)))\n",
    "plt.legend()\n",
    "plt.grid()\n",
    "plt.show()"
   ]
  },
  {
   "cell_type": "code",
   "execution_count": 122,
   "metadata": {},
   "outputs": [
    {
     "data": {
      "image/png": "[encoded data removed]",
      "text/plain": [
       "<Figure size 432x288 with 1 Axes>"
      ]
     },
     "metadata": {
      "needs_background": "light"
     },
     "output_type": "display_data"
    }
   ],
   "source": [
    "la =  9.21\n",
    "old_la = la\n",
    "delta = 1\n",
    "linsp = [la - delta, la + delta, 250]\n",
    "y0 = [-7.70420780e+00,  5.95402880e-02, -3.39032545e-09, -2.28032640e-08]\n",
    "D, A, K1, K2 = 10, 2.0, 1.57, 10\n",
    "k11, k12, k13, k21, k22, k23 = 0, 1.57, 10, 0, 10, 1.57 \n",
    "K = [k11, k12, k13, k21, k22, k23]\n",
    "filename=\"svds\"\n",
    "s1_, s2_, steps_ = lambda_iterate_svd(linsp, D, A, K, y0, system, bc, 50, filename)\n",
    "plt.scatter(steps_, s1_, color=\"red\", s=20, label = \"least\")\n",
    "plt.scatter(steps_, s2_, color=\"green\", s=20, label = \"second least\")\n",
    "plt.title(\"Lambda = {}\".format(round(old_la, 2)))\n",
    "plt.legend()\n",
    "plt.grid()\n",
    "plt.show()"
   ]
  },
  {
   "cell_type": "code",
   "execution_count": 123,
   "metadata": {},
   "outputs": [
    {
     "data": {
      "image/png": "[encoded data removed]",
      "text/plain": [
       "<Figure size 432x288 with 1 Axes>"
      ]
     },
     "metadata": {
      "needs_background": "light"
     },
     "output_type": "display_data"
    }
   ],
   "source": [
    "la =  13.313313313313314\n",
    "old_la = la\n",
    "delta = 1\n",
    "linsp = [la - delta, la + delta, 250]\n",
    "y0 = [-1.11638958e+01,  5.94700922e-02, -3.93275515e-08, -2.49693845e-07]\n",
    "D, A, K1, K2 = 10, 2.0, 1.57, 10\n",
    "k11, k12, k13, k21, k22, k23 = 0, 1.57, 10, 0, 10, 1.57 \n",
    "K = [k11, k12, k13, k21, k22, k23]\n",
    "filename=\"svds\"\n",
    "plt.scatter(steps_, s1_, color=\"red\", s=20, label = \"least\")\n",
    "plt.scatter(steps_, s2_, color=\"green\", s=20, label = \"second least\")\n",
    "plt.title(\"Lambda = {}\".format(round(old_la, 2)))\n",
    "plt.legend()\n",
    "plt.grid()\n",
    "plt.show()"
   ]
  },
  {
   "cell_type": "code",
   "execution_count": 136,
   "metadata": {},
   "outputs": [
    {
     "data": {
      "image/png": "[encoded data removed]",
      "text/plain": [
       "<Figure size 432x288 with 1 Axes>"
      ]
     },
     "metadata": {
      "needs_background": "light"
     },
     "output_type": "display_data"
    }
   ],
   "source": [
    "la =  18.01801801801802\n",
    "old_la = la\n",
    "delta = 1\n",
    "linsp = [la - delta, la + delta + 1, 500]\n",
    "y0 = [-1.51299212e+01,  5.94282369e-02, -1.98922171e-09, -1.30316749e-08]\n",
    "D, A, K1, K2 = 10, 2.0, 1.57, 10\n",
    "k11, k12, k13, k21, k22, k23 = 0, 1.57, 10, 0, 10, 1.57 \n",
    "K = [k11, k12, k13, k21, k22, k23]\n",
    "filename=\"svds\"\n",
    "s1_, s2_, steps_ = lambda_iterate_svd(linsp, D, A, K, y0, system, bc, 50, filename)\n",
    "plt.scatter(steps_, s1_, color=\"red\", s=20, label = \"least\")\n",
    "plt.scatter(steps_, s2_, color=\"green\", s=20, label = \"second least\")\n",
    "plt.title(\"Lambda = {}\".format(round(old_la, 2)))\n",
    "plt.legend()\n",
    "plt.grid()\n",
    "plt.show()"
   ]
  },
  {
   "cell_type": "code",
   "execution_count": 125,
   "metadata": {},
   "outputs": [
    {
     "data": {
      "image/png": "[encoded data removed]",
      "text/plain": [
       "<Figure size 432x288 with 1 Axes>"
      ]
     },
     "metadata": {
      "needs_background": "light"
     },
     "output_type": "display_data"
    }
   ],
   "source": [
    "la =  23.523523523523526\n",
    "old_la = la\n",
    "delta = 1\n",
    "linsp = [la - delta, la + delta, 250]\n",
    "y0 = [-1.97710349e+01,  5.94010128e-02, -8.25309381e-09, -5.25299159e-08]\n",
    "D, A, K1, K2 = 10, 2.0, 1.57, 10\n",
    "k11, k12, k13, k21, k22, k23 = 0, 1.57, 10, 0, 10, 1.57 \n",
    "K = [k11, k12, k13, k21, k22, k23]\n",
    "filename=\"svds\"\n",
    "s1_, s2_, steps_ = lambda_iterate_svd(linsp, D, A, K, y0, system, bc, 50, filename)\n",
    "plt.scatter(steps_, s1_, color=\"red\", s=20, label = \"least\")\n",
    "plt.scatter(steps_, s2_, color=\"green\", s=20, label = \"second least\")\n",
    "plt.title(\"Lambda = {}\".format(round(old_la, 2)))\n",
    "plt.legend()\n",
    "plt.grid()\n",
    "plt.show()"
   ]
  },
  {
   "cell_type": "code",
   "execution_count": 133,
   "metadata": {},
   "outputs": [
    {
     "data": {
      "image/png": "[encoded data removed]",
      "text/plain": [
       "<Figure size 432x288 with 1 Axes>"
      ]
     },
     "metadata": {
      "needs_background": "light"
     },
     "output_type": "display_data"
    }
   ],
   "source": [
    "la =  29.72972972972973\n",
    "old_la = la\n",
    "delta = 1\n",
    "linsp = [la - delta, la + delta, 250]\n",
    "y0 = [-2.50028482e+01,  5.93823310e-02, -6.41453135e-10, -4.16828726e-09]\n",
    "D, A, K1, K2 = 10, 2.0, 1.57, 10\n",
    "k11, k12, k13, k21, k22, k23 = 0, 1.57, 10, 0, 10, 1.57 \n",
    "K = [k11, k12, k13, k21, k22, k23]\n",
    "filename=\"svds\"\n",
    "s1_, s2_, steps_ = lambda_iterate_svd(linsp, D, A, K, y0, system, bc, 50, filename)\n",
    "plt.scatter(steps_, s1_, color=\"red\", s=20, label = \"least\")\n",
    "plt.scatter(steps_, s2_, color=\"green\", s=20, label = \"second least\")\n",
    "plt.title(\"Lambda = {}\".format(round(old_la, 2)))\n",
    "plt.legend()\n",
    "plt.grid()\n",
    "plt.show()"
   ]
  },
  {
   "cell_type": "code",
   "execution_count": 12,
   "metadata": {},
   "outputs": [
    {
     "data": {
      "image/png": "[encoded data removed]",
      "text/plain": [
       "<Figure size 432x288 with 1 Axes>"
      ]
     },
     "metadata": {
      "needs_background": "light"
     },
     "output_type": "display_data"
    }
   ],
   "source": [
    "la =  36.74\n",
    "old_la = la\n",
    "delta = 1\n",
    "linsp = [la - delta, la + delta, 250]\n",
    "y0 = [-3.09097415e+01,  5.93692547e-02, -7.17763815e-08, -4.62051036e-07]\n",
    "D, A, K1, K2 = 10, 2.0, 1.57, 10\n",
    "k11, k12, k13, k21, k22, k23 = 0, 1.57, 10, 0, 10, 1.57 \n",
    "K = [k11, k12, k13, k21, k22, k23]\n",
    "filename=\"svds\"\n",
    "s1_, s2_, steps_ = lambda_iterate_svd(linsp, D, A, K, y0, system, bc, 50, filename)\n",
    "plt.scatter(steps_, s1_, color=\"red\", s=20, label = \"least\")\n",
    "plt.scatter(steps_, s2_, color=\"green\", s=20, label = \"second least\")\n",
    "plt.title(\"Lambda = {}\".format(round(old_la, 2)))\n",
    "plt.legend()\n",
    "plt.grid()\n",
    "plt.show()"
   ]
  },
  {
   "cell_type": "code",
   "execution_count": 11,
   "metadata": {
    "scrolled": true
   },
   "outputs": [
    {
     "data": {
      "image/png": "[encoded data removed]",
      "text/plain": [
       "<Figure size 432x288 with 1 Axes>"
      ]
     },
     "metadata": {
      "needs_background": "light"
     },
     "output_type": "display_data"
    }
   ],
   "source": [
    "la =  44.34434434434435\n",
    "old_la = la\n",
    "delta = 1\n",
    "linsp = [la - delta, la + delta, 250]\n",
    "y0 = [-3.73229450e+01,  5.93591089e-02, -1.72490030e-10, -1.11617342e-09]\n",
    "D, A, K1, K2 = 10, 2.0, 1.57, 10\n",
    "k11, k12, k13, k21, k22, k23 = 0, 1.57, 10, 0, 10, 1.57 \n",
    "K = [k11, k12, k13, k21, k22, k23]\n",
    "filename=\"svds\"\n",
    "s1_, s2_, steps_ = lambda_iterate_svd(linsp, D, A, K, y0, system, bc, 50, filename)\n",
    "plt.scatter(steps_, s1_, color=\"red\", s=20, label = \"least\")\n",
    "plt.scatter(steps_, s2_, color=\"green\", s=20, label = \"second least\")\n",
    "plt.title(\"Lambda = {}\".format(round(old_la, 2)))\n",
    "plt.legend()\n",
    "plt.grid()\n",
    "plt.show()"
   ]
  },
  {
   "cell_type": "code",
   "execution_count": 18,
   "metadata": {},
   "outputs": [
    {
     "data": {
      "image/png": "[encoded data removed]",
      "text/plain": [
       "<Figure size 432x288 with 1 Axes>"
      ]
     },
     "metadata": {
      "needs_background": "light"
     },
     "output_type": "display_data"
    }
   ],
   "source": [
    "la =  44.34434434434435\n",
    "old_la = la\n",
    "delta = 1\n",
    "linsp = [la - delta, la + delta, 250]\n",
    "y0 = [-3.73229450e+01,  5.93591089e-02, -1.72490030e-10, -1.11617342e-09]\n",
    "D, A, K1, K2 = 10, 2.0, 1.57, 10\n",
    "k11, k12, k13, k21, k22, k23 = 0, 1.57, 10, 0, 10, 1.57 \n",
    "K = [k11, k12, k13, k21, k22, k23]\n",
    "filename=\"svds\"\n",
    "s1_, s2_, steps_ = lambda_iterate_svd(linsp, D, A, K, y0, system, bc, 50, filename)\n",
    "plt.scatter(steps_, s1_, color=\"red\", s=20, label = \"least\")\n",
    "plt.scatter(steps_, s2_, color=\"green\", s=20, label = \"second least\")\n",
    "plt.title(\"Особая лямбда\")\n",
    "plt.legend()\n",
    "plt.grid()\n",
    "plt.show()"
   ]
  },
  {
   "cell_type": "code",
   "execution_count": 17,
   "metadata": {},
   "outputs": [
    {
     "name": "stderr",
     "output_type": "stream",
     "text": [
      "<ipython-input-5-7d1752ddde68>:7: RuntimeWarning: overflow encountered in double_scalars\n",
      "  return (y + k11 * y**2 + 2 * k12 * z * y + k13 * z**2 + la) / D    # d^2y / dx^2\n",
      "<ipython-input-5-7d1752ddde68>:7: RuntimeWarning: invalid value encountered in double_scalars\n",
      "  return (y + k11 * y**2 + 2 * k12 * z * y + k13 * z**2 + la) / D    # d^2y / dx^2\n",
      "<ipython-input-5-7d1752ddde68>:14: RuntimeWarning: overflow encountered in double_scalars\n",
      "  return (z + k21 * y**2 + 2 * k22 * z * y + k23 * z**2 + la) / D     # d^2z / dx^2\n",
      "<ipython-input-5-7d1752ddde68>:14: RuntimeWarning: invalid value encountered in double_scalars\n",
      "  return (z + k21 * y**2 + 2 * k22 * z * y + k23 * z**2 + la) / D     # d^2z / dx^2\n"
     ]
    },
    {
     "data": {
      "image/png": "[encoded data removed]",
      "text/plain": [
       "<Figure size 432x288 with 1 Axes>"
      ]
     },
     "metadata": {
      "needs_background": "light"
     },
     "output_type": "display_data"
    }
   ],
   "source": [
    "la =  5\n",
    "old_la = la\n",
    "delta = 0.5\n",
    "linsp = [la - delta, la + delta, 50]\n",
    "y0 = [0] * 4\n",
    "D, A, K1, K2 = 10, 2.0, 1.57, 10\n",
    "k11, k12, k13, k21, k22, k23 = 0, 1.57, 10, 0, 10, 1.57 \n",
    "K = [k11, k12, k13, k21, k22, k23]\n",
    "filename=\"svds\"\n",
    "s1_, s2_, steps_ = lambda_iterate_svd(linsp, D, A, K, y0, system, bc, 50, filename)\n",
    "plt.scatter(steps_, s1_, color=\"red\", s=20, label = \"least\")\n",
    "plt.scatter(steps_, s2_, color=\"green\", s=20, label = \"second least\")\n",
    "plt.title(\"Обычная лямбда\")\n",
    "plt.legend()\n",
    "plt.grid()\n",
    "plt.show()"
   ]
  },
  {
   "cell_type": "markdown",
   "metadata": {},
   "source": [
    "# y(-A) = y(A) = z(-A) = z(A) = 0"
   ]
  },
  {
   "cell_type": "code",
   "execution_count": 10,
   "metadata": {},
   "outputs": [],
   "source": [
    "def boarder_values(l):\n",
    "    return np.array([l[0], l[1], l[4], l[5]])\n",
    "#  0      1      2      3     4    5    6     7   \n",
    "# y(-A) z(-A) y'(-A) z'(-A) y(A) z(A) y'(A) z'(A)\n",
    "\n",
    "bc = boarder_values"
   ]
  },
  {
   "cell_type": "code",
   "execution_count": 10,
   "metadata": {},
   "outputs": [],
   "source": [
    "glob_vals = []\n",
    "\n",
    "def lambda_iterate(linsp, D, K, A, init_approx, system, bc, draw_nth, filename):\n",
    "    global k11, k12, k13, k21, k22, k23\n",
    "    global la\n",
    "    params, bc_params = [], []\n",
    "    lambdas = np.linspace(linsp[0], linsp[1], linsp[2])\n",
    "    lambdas_for_plot, dets = [], []\n",
    "    y_approx = init_approx\n",
    "    cnt = 0\n",
    "    for la in lambdas:\n",
    "        cnt += 1\n",
    "        result = shooting(np.linspace(-A, A, 100), y_approx, system, params, bc, bc_params, filename)\n",
    "        if result[0] > 1:\n",
    "            continue\n",
    "        if len(dets) > 0 and result[3] * dets[-1] < 0:\n",
    "            print('Det Change, lambda = {lamb}'.format(lamb = round(la, 2)))\n",
    "            print(\"y_approx = \", y_approx, \" la = \", la)  # ------------------------------  print y_approx\n",
    "        y_approx = result[1]\n",
    "        lambdas_for_plot.append(la)\n",
    "        dets.append(result[3])\n",
    "    return dets, lambdas_for_plot"
   ]
  },
  {
   "cell_type": "markdown",
   "metadata": {},
   "source": [
    "## DET LAMBDA GRAPH"
   ]
  },
  {
   "cell_type": "code",
   "execution_count": 7,
   "metadata": {},
   "outputs": [],
   "source": [
    "filename = \"dets\""
   ]
  },
  {
   "cell_type": "code",
   "execution_count": 11,
   "metadata": {},
   "outputs": [
    {
     "name": "stdout",
     "output_type": "stream",
     "text": [
      "D = 10, A = 2.0, K1 = 1.57, K2 = 10, linspace(0, 100, 1000)\n"
     ]
    },
    {
     "name": "stderr",
     "output_type": "stream",
     "text": [
      "<ipython-input-4-c27e69665a78>:121: RuntimeWarning: overflow encountered in double_scalars\n",
      "  return (y + k11 * y**2 + 2 * k12 * z * y + k13 * z**2 + la) / D    # d^2y / dx^2\n",
      "<ipython-input-4-c27e69665a78>:121: RuntimeWarning: invalid value encountered in double_scalars\n",
      "  return (y + k11 * y**2 + 2 * k12 * z * y + k13 * z**2 + la) / D    # d^2y / dx^2\n",
      "<ipython-input-4-c27e69665a78>:128: RuntimeWarning: overflow encountered in double_scalars\n",
      "  return (z + k21 * y**2 + 2 * k22 * z * y + k23 * z**2 + la) / D     # d^2z / dx^2\n",
      "<ipython-input-4-c27e69665a78>:128: RuntimeWarning: invalid value encountered in double_scalars\n",
      "  return (z + k21 * y**2 + 2 * k22 * z * y + k23 * z**2 + la) / D     # d^2z / dx^2\n",
      "<ipython-input-4-c27e69665a78>:66: RuntimeWarning: invalid value encountered in less\n",
      "  if (np.abs(redisuals) < 1e-6).all():\n",
      "C:\\Users\\victo\\anaconda3\\lib\\site-packages\\numpy\\linalg\\linalg.py:2116: RuntimeWarning: invalid value encountered in det\n",
      "  r = _umath_linalg.det(a, signature=signature)\n"
     ]
    },
    {
     "name": "stdout",
     "output_type": "stream",
     "text": [
      "Det Change, lambda = 1.2\n",
      "y_approx =  [-0.14975259 -0.17271273  0.00167759  0.0020042 ]  la =  1.2012012012012012\n",
      "Det Change, lambda = 10.31\n",
      "y_approx =  [-1.78983788  0.71764783  0.01927263 -0.02823197]  la =  10.31031031031031\n",
      "Det Change, lambda = 20.62\n",
      "y_approx =  [-2.99522846  1.07710429  0.0305036  -0.0910035 ]  la =  20.62062062062062\n",
      "Det Change, lambda = 47.55\n",
      "y_approx =  [-7.58118513 -0.35818589  0.10043277  0.20562941]  la =  47.54754754754755\n"
     ]
    },
    {
     "name": "stderr",
     "output_type": "stream",
     "text": [
      "C:\\Users\\victo\\anaconda3\\lib\\site-packages\\numpy\\linalg\\linalg.py:2116: RuntimeWarning: overflow encountered in det\n",
      "  r = _umath_linalg.det(a, signature=signature)\n"
     ]
    },
    {
     "name": "stdout",
     "output_type": "stream",
     "text": [
      "Det Change, lambda = 81.28\n",
      "y_approx =  [-9.90360188 -0.77382924  0.16049327  0.43069394]  la =  81.28128128128128\n"
     ]
    },
    {
     "data": {
      "image/png": "[encoded data removed]",
      "text/plain": [
       "<Figure size 1440x720 with 1 Axes>"
      ]
     },
     "metadata": {
      "needs_background": "light"
     },
     "output_type": "display_data"
    }
   ],
   "source": [
    "for ij in [1.57]:\n",
    "    D, A, K1, K2 = 10, 2.0, ij, 10\n",
    "    k11, k12, k13, k21, k22, k23 = 0, ij, 10, 0, 10, ij   #  0, K1, K2, 0, K2, K1\n",
    "    init_approx =  [0, 0, 0, 0]\n",
    "    linsp = [0, 100, 1000]\n",
    "    lambdas = np.linspace(linsp[0], linsp[1], linsp[2])\n",
    "    print('D = {D}, A = {A}, K1 = {K1}, K2 = {K2}, linspace({l1}, {l2}, {l3})'.format(D = D, A = A, K1 = ij, K2 = 10, l1 = linsp[0], l2 = linsp[1], l3 = linsp[2]))\n",
    "    K = [k11, k12, k13, k21, k22, k23]\n",
    "    dets, lambdas_for_plot = lambda_iterate(linsp, D, K, A, init_approx, system, bc, 500, filename)\n",
    "    fig = plt.figure(figsize=(20, 10))\n",
    "    ax = fig.gca()    \n",
    "    ax.set_xlabel(\"Lambda\")\n",
    "    ax.set_ylabel(\"Det\")\n",
    "    plt.scatter(lambdas_for_plot, dets, s = 3, color = 'red')\n",
    "    plt.title('D = {D}, A = {A}, K1 = {K1}, K2 = {K2}, linspace({l1}, {l2}, {l3})'.format(D = D, A = A, K1 = ij, K2 = 10, l1 = linsp[0], l2 = linsp[1], l3 = linsp[2]))\n",
    "    plt.grid()\n",
    "    plt.show()"
   ]
  }
 ],
 "metadata": {
  "kernelspec": {
   "display_name": "Python 3",
   "language": "python",
   "name": "python3"
  },
  "language_info": {
   "codemirror_mode": {
    "name": "ipython",
    "version": 3
   },
   "file_extension": ".py",
   "mimetype": "text/x-python",
   "name": "python",
   "nbconvert_exporter": "python",
   "pygments_lexer": "ipython3",
   "version": "3.8.3"
  }
 },
 "nbformat": 4,
 "nbformat_minor": 1
}
